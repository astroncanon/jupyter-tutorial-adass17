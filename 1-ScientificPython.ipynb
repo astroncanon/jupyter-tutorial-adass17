{
 "cells": [
  {
   "cell_type": "markdown",
   "metadata": {},
   "source": [
    "# 1)  Markdown\n",
    "<!---\n",
    "\n",
    "-->"
   ]
  },
  {
   "cell_type": "markdown",
   "metadata": {},
   "source": [
    "This is a markdown cell:\n",
    "* Bullets\n",
    "* Latex formulas: $\\int_a^b x dx$\n",
    "* [Links](http://www.google.cl)\n",
    "* Code: ``python setup.py``\n",
    "```Python\n",
    "for i in range(10):\n",
    "    print(i**2)\n",
    "```\n",
    "* Tables\n",
    "\n",
    "| **X** | **Y** |\n",
    "|-------|-------|\n",
    "| 3.145 | 2.34  |\n",
    "| 0.32  | 3     |\n",
    "* Images\n",
    "<img src=\"https://vo.chivo.cl/static/img/logo_chivo.png\" width=\"400\">"
   ]
  },
  {
   "cell_type": "markdown",
   "metadata": {},
   "source": [
    "# 2) Code cells\n",
    "\n",
    "<!--\n",
    "\n",
    "-->"
   ]
  },
  {
   "cell_type": "code",
   "execution_count": 1,
   "metadata": {},
   "outputs": [
    {
     "name": "stdout",
     "output_type": "stream",
     "text": [
      "[1, 2, 3, 4, 5]\n"
     ]
    },
    {
     "data": {
      "text/plain": [
       "[1, 4, 9, 16, 25]"
      ]
     },
     "execution_count": 1,
     "metadata": {},
     "output_type": "execute_result"
    }
   ],
   "source": [
    "# This is a code cell (python code)\n",
    "import math\n",
    "a = [1,2,3,4,5]\n",
    "b = []\n",
    "for i in a:\n",
    "    b.append(i*i)\n",
    "print(a)\n",
    "# The last line is returned as output of the cell\n",
    "b"
   ]
  },
  {
   "cell_type": "markdown",
   "metadata": {},
   "source": [
    "# 3) Lists, tuples and dictionaries\n",
    "<!--\n",
    "\n",
    "-->"
   ]
  },
  {
   "cell_type": "code",
   "execution_count": 2,
   "metadata": {},
   "outputs": [
    {
     "data": {
      "text/plain": [
       "[32, 42.0, '42']"
      ]
     },
     "execution_count": 2,
     "metadata": {},
     "output_type": "execute_result"
    }
   ],
   "source": [
    "# lists (mutables)\n",
    "lst = [42,42.0,\"42\"]\n",
    "lst[0]=32\n",
    "lst"
   ]
  },
  {
   "cell_type": "code",
   "execution_count": 3,
   "metadata": {},
   "outputs": [
    {
     "ename": "TypeError",
     "evalue": "'tuple' object does not support item assignment",
     "output_type": "error",
     "traceback": [
      "\u001b[0;31m-------------------------------------------------------\u001b[0m",
      "\u001b[0;31mTypeError\u001b[0m             Traceback (most recent call last)",
      "\u001b[0;32m<ipython-input-3-6b5f5585abcf>\u001b[0m in \u001b[0;36m<module>\u001b[0;34m()\u001b[0m\n\u001b[1;32m      1\u001b[0m \u001b[0;31m# tuples (inmutables)\u001b[0m\u001b[0;34m\u001b[0m\u001b[0;34m\u001b[0m\u001b[0m\n\u001b[1;32m      2\u001b[0m \u001b[0mtup\u001b[0m \u001b[0;34m=\u001b[0m \u001b[0;34m(\u001b[0m\u001b[0;36m42\u001b[0m\u001b[0;34m,\u001b[0m\u001b[0;36m42.0\u001b[0m\u001b[0;34m,\u001b[0m\u001b[0;34m'42'\u001b[0m\u001b[0;34m)\u001b[0m\u001b[0;34m\u001b[0m\u001b[0m\n\u001b[0;32m----> 3\u001b[0;31m \u001b[0mtup\u001b[0m\u001b[0;34m[\u001b[0m\u001b[0;36m0\u001b[0m\u001b[0;34m]\u001b[0m\u001b[0;34m=\u001b[0m\u001b[0;36m32\u001b[0m\u001b[0;34m\u001b[0m\u001b[0m\n\u001b[0m\u001b[1;32m      4\u001b[0m \u001b[0mtup\u001b[0m\u001b[0;34m\u001b[0m\u001b[0m\n",
      "\u001b[0;31mTypeError\u001b[0m: 'tuple' object does not support item assignment"
     ]
    }
   ],
   "source": [
    "# tuples (inmutables)\n",
    "tup = (42,42.0,'42')\n",
    "tup[0]=32\n",
    "tup"
   ]
  },
  {
   "cell_type": "code",
   "execution_count": 4,
   "metadata": {},
   "outputs": [
    {
     "name": "stdout",
     "output_type": "stream",
     "text": [
      "1\n",
      "2.5\n"
     ]
    }
   ],
   "source": [
    "# Dictionaries\n",
    "dt ={'uno':1,'dos':2,'dos y medio':2.5,'tres':3}\n",
    "print(dt['uno'])\n",
    "print(dt['dos y medio'])"
   ]
  },
  {
   "cell_type": "markdown",
   "metadata": {},
   "source": [
    "# 4) Imports\n",
    "<!--\n",
    "# Original Namespace Import\n",
    "import numpy\n",
    "a = numpy.array([1,2,3,4])\n",
    "\n",
    "# Renaming Namespace Import\n",
    "import numpy as np\n",
    "b = np.array([1,2,3,4])\n",
    "\n",
    "# Namespace Inclusion Import\n",
    "from numpy import *\n",
    "c = array([1,2,3,4])\n",
    "\n",
    "print(np.array_equal(a,b))\n",
    "np.array_equal(a,c);\n",
    "-->"
   ]
  },
  {
   "cell_type": "code",
   "execution_count": 5,
   "metadata": {},
   "outputs": [
    {
     "name": "stdout",
     "output_type": "stream",
     "text": [
      "True\n"
     ]
    }
   ],
   "source": [
    "# Original Namespace Import\n",
    "import numpy\n",
    "a = numpy.array([1,2,3,4])\n",
    "\n",
    "# Renaming Namespace Import\n",
    "import numpy as np\n",
    "b = np.array([1,2,3,4])\n",
    "\n",
    "# Namespace Inclusion Import\n",
    "from numpy import *\n",
    "c = array([1,2,3,4])\n",
    "\n",
    "print(np.array_equal(a,b))\n",
    "np.array_equal(a,c);"
   ]
  },
  {
   "cell_type": "markdown",
   "metadata": {},
   "source": [
    "# 5) Magics\n",
    "<!--\n",
    "\n",
    "-->"
   ]
  },
  {
   "cell_type": "code",
   "execution_count": 6,
   "metadata": {},
   "outputs": [
    {
     "name": "stdout",
     "output_type": "stream",
     "text": [
      "440 µs ± 22.9 µs per loop (mean ± std. dev. of 7 runs, 1000 loops each)\n"
     ]
    }
   ],
   "source": [
    "%timeit [i for i in range(10000)]\n",
    "# this will list all magic commands"
   ]
  },
  {
   "cell_type": "code",
   "execution_count": 7,
   "metadata": {},
   "outputs": [
    {
     "data": {
      "application/json": {
       "cell": {
        "!": "OSMagics",
        "HTML": "Other",
        "SVG": "Other",
        "bash": "Other",
        "capture": "ExecutionMagics",
        "debug": "ExecutionMagics",
        "file": "Other",
        "html": "DisplayMagics",
        "javascript": "DisplayMagics",
        "js": "DisplayMagics",
        "latex": "DisplayMagics",
        "markdown": "DisplayMagics",
        "perl": "Other",
        "prun": "ExecutionMagics",
        "pypy": "Other",
        "python": "Other",
        "python2": "Other",
        "python3": "Other",
        "ruby": "Other",
        "script": "ScriptMagics",
        "sh": "Other",
        "svg": "DisplayMagics",
        "sx": "OSMagics",
        "system": "OSMagics",
        "time": "ExecutionMagics",
        "timeit": "ExecutionMagics",
        "writefile": "OSMagics"
       },
       "line": {
        "alias": "OSMagics",
        "alias_magic": "BasicMagics",
        "autocall": "AutoMagics",
        "automagic": "AutoMagics",
        "autosave": "KernelMagics",
        "bookmark": "OSMagics",
        "cat": "Other",
        "cd": "OSMagics",
        "clear": "KernelMagics",
        "colors": "BasicMagics",
        "config": "ConfigMagics",
        "connect_info": "KernelMagics",
        "cp": "Other",
        "debug": "ExecutionMagics",
        "dhist": "OSMagics",
        "dirs": "OSMagics",
        "doctest_mode": "BasicMagics",
        "ed": "Other",
        "edit": "KernelMagics",
        "env": "OSMagics",
        "gui": "BasicMagics",
        "hist": "Other",
        "history": "HistoryMagics",
        "killbgscripts": "ScriptMagics",
        "ldir": "Other",
        "less": "KernelMagics",
        "lf": "Other",
        "lk": "Other",
        "ll": "Other",
        "load": "CodeMagics",
        "load_ext": "ExtensionMagics",
        "loadpy": "CodeMagics",
        "logoff": "LoggingMagics",
        "logon": "LoggingMagics",
        "logstart": "LoggingMagics",
        "logstate": "LoggingMagics",
        "logstop": "LoggingMagics",
        "ls": "Other",
        "lsmagic": "BasicMagics",
        "lx": "Other",
        "macro": "ExecutionMagics",
        "magic": "BasicMagics",
        "man": "KernelMagics",
        "matplotlib": "PylabMagics",
        "mkdir": "Other",
        "more": "KernelMagics",
        "mv": "Other",
        "notebook": "BasicMagics",
        "page": "BasicMagics",
        "pastebin": "CodeMagics",
        "pdb": "ExecutionMagics",
        "pdef": "NamespaceMagics",
        "pdoc": "NamespaceMagics",
        "pfile": "NamespaceMagics",
        "pinfo": "NamespaceMagics",
        "pinfo2": "NamespaceMagics",
        "pip": "BasicMagics",
        "popd": "OSMagics",
        "pprint": "BasicMagics",
        "precision": "BasicMagics",
        "profile": "BasicMagics",
        "prun": "ExecutionMagics",
        "psearch": "NamespaceMagics",
        "psource": "NamespaceMagics",
        "pushd": "OSMagics",
        "pwd": "OSMagics",
        "pycat": "OSMagics",
        "pylab": "PylabMagics",
        "qtconsole": "KernelMagics",
        "quickref": "BasicMagics",
        "recall": "HistoryMagics",
        "rehashx": "OSMagics",
        "reload_ext": "ExtensionMagics",
        "rep": "Other",
        "rerun": "HistoryMagics",
        "reset": "NamespaceMagics",
        "reset_selective": "NamespaceMagics",
        "rm": "Other",
        "rmdir": "Other",
        "run": "ExecutionMagics",
        "save": "CodeMagics",
        "sc": "OSMagics",
        "set_env": "OSMagics",
        "store": "StoreMagics",
        "sx": "OSMagics",
        "system": "OSMagics",
        "tb": "ExecutionMagics",
        "time": "ExecutionMagics",
        "timeit": "ExecutionMagics",
        "unalias": "OSMagics",
        "unload_ext": "ExtensionMagics",
        "who": "NamespaceMagics",
        "who_ls": "NamespaceMagics",
        "whos": "NamespaceMagics",
        "xdel": "NamespaceMagics",
        "xmode": "BasicMagics"
       }
      },
      "text/plain": [
       "Available line magics:\n",
       "%alias  %alias_magic  %autocall  %automagic  %autosave  %bookmark  %cat  %cd  %clear  %colors  %config  %connect_info  %cp  %debug  %dhist  %dirs  %doctest_mode  %ed  %edit  %env  %gui  %hist  %history  %killbgscripts  %ldir  %less  %lf  %lk  %ll  %load  %load_ext  %loadpy  %logoff  %logon  %logstart  %logstate  %logstop  %ls  %lsmagic  %lx  %macro  %magic  %man  %matplotlib  %mkdir  %more  %mv  %notebook  %page  %pastebin  %pdb  %pdef  %pdoc  %pfile  %pinfo  %pinfo2  %popd  %pprint  %precision  %profile  %prun  %psearch  %psource  %pushd  %pwd  %pycat  %pylab  %qtconsole  %quickref  %recall  %rehashx  %reload_ext  %rep  %rerun  %reset  %reset_selective  %rm  %rmdir  %run  %save  %sc  %set_env  %store  %sx  %system  %tb  %time  %timeit  %unalias  %unload_ext  %who  %who_ls  %whos  %xdel  %xmode\n",
       "\n",
       "Available cell magics:\n",
       "%%!  %%HTML  %%SVG  %%bash  %%capture  %%debug  %%file  %%html  %%javascript  %%js  %%latex  %%markdown  %%perl  %%prun  %%pypy  %%python  %%python2  %%python3  %%ruby  %%script  %%sh  %%svg  %%sx  %%system  %%time  %%timeit  %%writefile\n",
       "\n",
       "Automagic is ON, % prefix IS NOT needed for line magics."
      ]
     },
     "execution_count": 7,
     "metadata": {},
     "output_type": "execute_result"
    }
   ],
   "source": [
    "%lsmagic"
   ]
  },
  {
   "cell_type": "code",
   "execution_count": 8,
   "metadata": {},
   "outputs": [
    {
     "name": "stdout",
     "output_type": "stream",
     "text": [
      "1-ScientificPython.ipynb\n",
      "2-AstroPython.ipynb\n",
      "3-ipyaladin.ipynb\n",
      "ALMA-OrionKL-band6-cont.fits\n",
      "ALMA-OrionKL-band6-methanol.fits\n",
      "ALMA-OrionKL-band6-methanon-mom0.fits\n",
      "Test.ipynb\n",
      "chivo_search.ipynb\n",
      "emhbeta_flux.fits\n",
      "emnii6584_flux.fits\n",
      "emsii6731_flux.fits\n",
      "prep\n",
      "view.fits\n",
      "USER              PID  %CPU %MEM      VSZ    RSS   TT  STAT STARTED      TIME COMMAND\n",
      "mauricio         1620 100.0  0.5  2501624  39088   ??  Ss    1:52PM   0:06.11 /Users/mauricio/anaconda3/envs/adassws/bin/python -m ipykernel_launcher -f /Users/mauricio/Library/Jupyter/runtime/kernel-3c0b56b7-f0f5-4ef3-a00a-7b52c3318f70.json\n",
      "_windowserver     204   5.3  1.3  4544648 113136   ??  Ss   10:25AM   8:56.41 /System/Library/PrivateFrameworks/SkyLight.framework/Resources/WindowServer -daemon\n",
      "root              108   1.6  0.1  2518044   9824   ??  Ss   10:25AM   0:07.85 /usr/libexec/opendirectoryd\n",
      "mauricio          508   1.4  0.4  3644300  33984   ??  Ss   10:26AM   0:39.38 /System/Library/StagedFrameworks/Safari/WebKit.framework/Versions/A/XPCServices/com.apple.WebKit.Networking.xpc/Contents/MacOS/com.apple.WebKit.Networking\n",
      "mauricio          582   0.7  0.8  4444964  70808   ??  S    10:26AM   1:21.26 /Applications/Dropbox.app/Contents/MacOS/Dropbox\n",
      "mauricio          435   0.2  2.0  4178164 171344   ??  S    10:26AM   7:17.82 /Applications/Safari.app/Contents/MacOS/Safari -psn_0_45067\n",
      "root              320   0.2  1.0  3900664  84172   ??  Ss   10:25AM   0:34.23 /System/Library/Frameworks/CoreServices.framework/Frameworks/Metadata.framework/Versions/A/Support/mds_stores\n",
      "root               91   0.1  0.2  2596112  19616   ??  Ss   10:25AM   0:31.05 /System/Library/Frameworks/CoreServices.framework/Frameworks/Metadata.framework/Support/mds\n",
      "mauricio          584   0.1  0.7  3035648  61144   ??  S    10:26AM   1:07.46 /Applications/Backup and Sync.app/Contents/MacOS/Backup and Sync\n",
      "_netbios         1796   0.0  0.1  2472824   5408   ??  SNs   4:33PM   0:00.28 /usr/sbin/netbiosd\n",
      "root             1792   0.0  0.0  2494892   3588   ??  Ss    4:33PM   0:00.03 /usr/sbin/ocspd\n",
      "mauricio         1787   0.0  0.1  2470836   4552   ??  Ss    4:33PM   0:00.07 /System/Library/SystemConfiguration/EAPOLController.bundle/Contents/Resources/eapolclient -i en0 -u 501 -g 20\n",
      "mauricio         1772   0.0  0.6  2483368  51412   ??  Ss    3:22PM   0:02.65 /Users/mauricio/anaconda3/envs/adassws/bin/python -m ipykernel_launcher -f /Users/mauricio/Library/Jupyter/runtime/kernel-b00b4b12-56ed-4e38-b2e0-0f6ca7b41f1b.json\n",
      "mauricio         1716   0.0  0.0  2461044   1436 s002  Ss+   2:42PM   0:00.01 /bin/bash\n",
      "mauricio         1686   0.0  0.1  2483112   8776   ??  Ss    2:36PM   0:01.68 /Users/mauricio/anaconda3/envs/adassws/bin/python -m ipykernel_launcher -f /Users/mauricio/Library/Jupyter/runtime/kernel-aba967d8-6425-40ea-bd45-889eff2dd953.json\n",
      "mauricio         1681   0.0  4.6 99484380 386080   ??  Ss    2:36PM   0:49.17 /Users/mauricio/anaconda3/envs/adassws/bin/python -m ipykernel_launcher -f /Users/mauricio/Library/Jupyter/runtime/kernel-c64ff787-ad95-4d55-8ef4-34ee19f402bf.json\n",
      "mauricio         1659   0.0  0.2  2561620  14680   ??  S     2:09PM   0:00.47 /System/Library/CoreServices/OSDUIHelper.app/Contents/MacOS/OSDUIHelper\n",
      "mauricio         1617   0.0  4.1  4188268 348116   ??  Ss    1:52PM   2:31.30 /System/Library/StagedFrameworks/Safari/WebKit.framework/Versions/A/XPCServices/com.apple.WebKit.WebContent.xpc/Contents/MacOS/com.apple.WebKit.WebContent\n",
      "root             1598   0.0  0.0  2469980   1232   ??  Ss    1:51PM   0:00.01 /usr/libexec/syspolicyd\n",
      "mauricio         1593   0.0  0.5  2483512  39564 s000  S+    1:51PM   0:27.34 /Users/mauricio/anaconda3/envs/adassws/bin/python /Users/mauricio/anaconda3/envs/adassws/bin/jupyter-notebook\n",
      "mauricio         1539   0.0  3.8  4262460 318472   ??  Ss    1:41PM   0:48.19 /System/Library/StagedFrameworks/Safari/WebKit.framework/Versions/A/XPCServices/com.apple.WebKit.WebContent.xpc/Contents/MacOS/com.apple.WebKit.WebContent\n",
      "mauricio         1414   0.0  0.4  2516916  31244   ??  S     1:16PM   0:00.65 /System/Library/Frameworks/CoreServices.framework/Frameworks/Metadata.framework/Versions/A/Support/mdworker -s mdworker -c MDSImporterWorker -m com.apple.mdworker.shared\n",
      "mauricio         1413   0.0  0.3  2516452  23100   ??  S     1:16PM   0:00.74 /System/Library/Frameworks/CoreServices.framework/Frameworks/Metadata.framework/Versions/A/Support/mdworker -s mdworker -c MDSImporterWorker -m com.apple.mdworker.shared\n",
      "mauricio         1412   0.0  0.3  2511732  27312   ??  S     1:16PM   0:00.36 /System/Library/Frameworks/CoreServices.framework/Frameworks/Metadata.framework/Versions/A/Support/mdworker -s mdworker -c MDSImporterWorker -m com.apple.mdworker.shared\n",
      "mauricio         1411   0.0  0.3  2496536  22124   ??  S     1:16PM   0:00.44 /System/Library/Frameworks/CoreServices.framework/Frameworks/Metadata.framework/Versions/A/Support/mdworker -s mdworker -c MDSImporterWorker -m com.apple.mdworker.shared\n",
      "mauricio         1364   0.0  0.0  2501420   4048   ??  S     1:13PM   0:00.08 /System/Library/PrivateFrameworks/CoreSpotlight.framework/Support/com.apple.spotlight.IndexAgent\n",
      "mauricio         1217   0.0  0.0  2461044   2228 s001  S+    1:04PM   0:00.15 -bash\n",
      "root             1216   0.0  0.0  2469468   1528 s001  Ss    1:04PM   0:00.02 login -pfl mauricio /bin/bash -c exec -la bash /bin/bash\n",
      "root             1214   0.0  0.0  2469648   2512   ??  Ss    1:04PM   0:00.03 /System/Library/PrivateFrameworks/CommerceKit.framework/Versions/A/Resources/storeinstalld\n",
      "mauricio         1193   0.0  0.2  2569600  15160   ??  Ss    1:03PM   0:00.17 /System/Library/StagedFrameworks/Safari/SafariShared.framework/Versions/A/XPCServices/com.apple.Safari.ImageDecoder.xpc/Contents/MacOS/com.apple.Safari.ImageDecoder\n",
      "_softwareupdate  1189   0.0  0.0  2496120   2452   ??  Ss    1:03PM   0:00.05 /System/Library/CoreServices/Software Update.app/Contents/Resources/softwareupdate_download_service\n",
      "mauricio         1188   0.0  3.5  4030560 296832   ??  Ss    1:03PM   0:55.88 /System/Library/StagedFrameworks/Safari/WebKit.framework/Versions/A/XPCServices/com.apple.WebKit.WebContent.xpc/Contents/MacOS/com.apple.WebKit.WebContent\n",
      "mauricio         1187   0.0  0.0  2469976   2420   ??  S     1:02PM   0:00.03 /System/Library/Frameworks/MediaAccessibility.framework/Versions/A/XPCServices/com.apple.accessibility.mediaaccessibilityd.xpc/Contents/MacOS/com.apple.accessibility.mediaaccessibilityd\n",
      "mauricio         1170   0.0  0.2  2576604  19456   ??  Ss    1:02PM   0:01.28 /System/Library/StagedFrameworks/Safari/SafariShared.framework/Versions/A/XPCServices/com.apple.Safari.SearchHelper.xpc/Contents/MacOS/com.apple.Safari.SearchHelper\n",
      "mauricio         1169   0.0  0.1  3619356   9692   ??  Ss    1:02PM   0:00.46 /System/Library/StagedFrameworks/Safari/WebKit.framework/Versions/A/XPCServices/com.apple.WebKit.Databases.xpc/Contents/MacOS/com.apple.WebKit.Databases\n",
      "root             1165   0.0  0.0  2472564   2740   ??  Ss    1:02PM   0:00.14 /usr/sbin/cupsd -l\n",
      "mauricio         1156   0.0  0.1  2497408   5412   ??  S     1:01PM   0:00.14 /System/Library/PrivateFrameworks/AssetCacheServices.framework/XPCServices/AssetCacheLocatorService.xpc/Contents/MacOS/AssetCacheLocatorService -a\n",
      "mauricio         1155   0.0  0.1  2495920   4716   ??  S     1:01PM   0:00.12 /System/Library/Frameworks/CoreServices.framework/Frameworks/Metadata.framework/Versions/A/Support/mdwrite\n",
      "mauricio         1112   0.0  0.4  2673224  37108   ??  S    12:59PM   0:01.31 /System/Library/Services/AppleSpell.service/Contents/MacOS/AppleSpell\n",
      "mauricio         1044   0.0  0.0  2469664   3072   ??  S    12:54PM   0:00.09 /System/Library/Frameworks/ApplicationServices.framework/Versions/A/Frameworks/HIServices.framework/Versions/A/XPCServices/com.apple.hiservices-xpcservice.xpc/Contents/MacOS/com.apple.hiservices-xpcservice\n",
      "mauricio         1038   0.0  0.7  2609876  55848   ??  Ss   12:54PM   0:00.94 /Applications/Dropbox.app/Contents/PlugIns/garcon.appex/Contents/MacOS/garcon\n",
      "mauricio         1033   0.0  0.5  2668636  45912   ??  Ss   12:54PM   0:07.49 /System/Library/Frameworks/AppKit.framework/Versions/C/XPCServices/com.apple.appkit.xpc.openAndSavePanelService.xpc/Contents/MacOS/com.apple.appkit.xpc.openAndSavePanelService\n",
      "mauricio         1031   0.0  2.5  3006156 207176   ??  S    12:54PM   1:16.92 /Applications/Keynote.app/Contents/MacOS/Keynote\n",
      "mauricio          972   0.0  0.1  2475384   6672   ??  S    12:51PM   0:02.03 /System/Library/PrivateFrameworks/ViewBridge.framework/Versions/A/XPCServices/ViewBridgeAuxiliary.xpc/Contents/MacOS/ViewBridgeAuxiliary\n",
      "mauricio          952   0.0  0.1  2510088   9968   ??  S    12:49PM   0:02.52 /System/Library/PrivateFrameworks/SafariSafeBrowsing.framework/com.apple.Safari.SafeBrowsing.Service\n",
      "mauricio          846   0.0  0.0  2461044   2560 s000  S    12:47PM   0:00.20 -bash\n",
      "root              845   0.0  0.0  2469896   2848   ??  Ss   12:47PM   0:00.02 /System/Library/Frameworks/AudioToolbox.framework/XPCServices/com.apple.audio.SandboxHelper.xpc/Contents/MacOS/com.apple.audio.SandboxHelper\n",
      "root              843   0.0  0.0  2469468   2504 s000  Ss   12:47PM   0:00.03 login -pf mauricio\n",
      "mauricio          813   0.0  0.1  2474668   8616   ??  Ss   12:46PM   0:00.08 /Library/Frameworks/iTunesLibrary.framework/Versions/A/XPCServices/com.apple.iTunesLibraryService.xpc/Contents/MacOS/com.apple.iTunesLibraryService\n",
      "mauricio          812   0.0  0.5  2575760  41648   ??  Ss   12:46PM   0:00.15 /System/Library/PrivateFrameworks/AssistantServices.framework/Versions/A/XPCServices/media-indexer.xpc/Contents/MacOS/media-indexer\n",
      "mauricio          802   0.0  0.0  2469896   2104   ??  Ss   12:46PM   0:00.02 /System/Library/Frameworks/AudioToolbox.framework/XPCServices/com.apple.audio.SandboxHelper.xpc/Contents/MacOS/com.apple.audio.SandboxHelper\n",
      "mauricio          800   0.0  0.0  2470180   1968   ??  S    12:46PM   0:00.04 /System/Library/PrivateFrameworks/CoreCDP.framework/Versions/A/Resources/cdpd\n",
      "mauricio          799   0.0  0.1  2499764   7908   ??  S    12:46PM   0:00.66 /System/Library/PrivateFrameworks/CloudServices.framework/Versions/A/XPCServices/com.apple.sbd.xpc/Contents/MacOS/com.apple.sbd\n",
      "mauricio          795   0.0  0.0  2469692   3756   ??  S    12:46PM   0:00.16 /System/Library/CoreServices/EscrowSecurityAlert.app/Contents/MacOS/EscrowSecurityAlert\n",
      "mauricio          794   0.0  0.1  2495272   4296   ??  S    12:46PM   0:00.17 /System/Library/PrivateFrameworks/ProtectedCloudStorage.framework/Helpers/ProtectedCloudKeySyncing\n",
      "mauricio          791   0.0  0.0  2471068   3556   ??  S    12:46PM   0:00.05 /usr/libexec/USBAgent\n",
      "mauricio          781   0.0  0.0   627596    856   ??  S    10:31AM   0:00.01 /Users/mauricio/Library/Application Support/Steam/Steam.AppBundle/Steam/Contents/MacOS/ipcserver\n",
      "root              780   0.0  0.0  2469772    664   ??  Ss   10:31AM   0:00.72 /Library/PrivilegedHelperTools/com.microsoft.autoupdate.helper\n",
      "root              773   0.0  0.0  2469936    244   ??  Ss   10:30AM   0:00.01 /System/Library/PrivateFrameworks/InstallerDiagnostics.framework/Versions/A/Resources/installerdiagd\n",
      "root              766   0.0  0.0  2469460    696   ??  S    10:27AM   0:00.56 /usr/sbin/distnoted agent\n",
      "root              764   0.0  0.0  2496892   1568   ??  S    10:27AM   0:00.12 /usr/libexec/secinitd\n",
      "root              763   0.0  0.1  2499676   5964   ??  S    10:27AM   0:00.69 /System/Library/PrivateFrameworks/GeoServices.framework/Versions/A/XPCServices/com.apple.geod.xpc/Contents/MacOS/com.apple.geod\n",
      "_spotlight        760   0.0  0.0  2469460    820   ??  S    10:27AM   0:00.70 /usr/sbin/distnoted agent\n",
      "_spotlight        758   0.0  0.1  2506020   4256   ??  S    10:27AM   0:00.32 /System/Library/Frameworks/CoreServices.framework/Frameworks/Metadata.framework/Versions/A/Support/mdworker -s mdworker -c MDSImporterWorker -m com.apple.mdworker.shared\n",
      "mauricio          750   0.0  0.1  2542788  10352   ??  S    10:27AM   0:02.04 /System/Library/PrivateFrameworks/CoreSuggestions.framework/Versions/A/Support/suggestd\n",
      "_spotlight        740   0.0  0.0  2497852   1360   ??  S    10:27AM   0:00.32 /usr/libexec/trustd --agent\n",
      "mauricio          737   0.0  0.0  2462668    332   ??  S    10:26AM   0:00.13 /System/Library/Frameworks/CoreServices.framework/Frameworks/Metadata.framework/Versions/A/Support/mdflagwriter\n",
      "mauricio          735   0.0  0.0  2499076   2988   ??  Ss   10:26AM   0:00.44 /System/Library/PrivateFrameworks/PhotoLibraryPrivate.framework/Versions/A/Frameworks/PhotoLibraryServices.framework/Versions/A/XPCServices/com.apple.photomoments.xpc/Contents/MacOS/com.apple.photomoments\n",
      "_spotlight        730   0.0  0.0  2501296    700   ??  S    10:26AM   0:00.17 /System/Library/Frameworks/CoreServices.framework/Frameworks/Metadata.framework/Versions/A/Support/mdworker -s mdworker-sizing -c MDSSizingWorker -m com.apple.mdworker.sizing\n",
      "mauricio          729   0.0  0.0  2502332   1444   ??  S    10:26AM   0:00.69 /System/Library/Frameworks/CoreServices.framework/Frameworks/Metadata.framework/Versions/A/Support/mdworker -s mdworker-sizing -c MDSSizingWorker -m com.apple.mdworker.sizing\n",
      "root              727   0.0  0.0  2454476    316   ??  S    10:26AM   0:00.02 /System/Library/Frameworks/CoreServices.framework/Frameworks/Metadata.framework/Versions/A/Support/mdflagwriter\n",
      "mauricio          724   0.0  0.0  2474668   3216   ??  Ss   10:26AM   0:00.17 /Library/Frameworks/iTunesLibrary.framework/Versions/A/XPCServices/com.apple.iTunesLibraryService.xpc/Contents/MacOS/com.apple.iTunesLibraryService\n",
      "mauricio          720   0.0  0.0  2469464    152   ??  Ss   10:26AM   0:00.02 /System/Library/PrivateFrameworks/IMFoundation.framework/XPCServices/IMRemoteURLConnectionAgent.xpc/Contents/MacOS/IMRemoteURLConnectionAgent\n",
      "mauricio          719   0.0  0.0  2495740    780   ??  S    10:26AM   0:00.04 /System/Library/PrivateFrameworks/CharacterPicker.framework/Versions/A/XPCServices/com.apple.CharacterPicker.FileService.xpc/Contents/MacOS/com.apple.CharacterPicker.FileService\n",
      "mauricio          718   0.0  0.0  2496188   1892   ??  Ss   10:26AM   0:00.18 /System/Library/PrivateFrameworks/IMFoundation.framework/XPCServices/IMRemoteURLConnectionAgent.xpc/Contents/MacOS/IMRemoteURLConnectionAgent\n",
      "mauricio          716   0.0  0.0  2469448   1056   ??  S    10:26AM   0:00.04 /System/Library/PrivateFrameworks/MediaRemote.framework/Support/mediaremoteagent\n",
      "mauricio          715   0.0  0.0  2496188   1952   ??  Ss   10:26AM   0:00.19 /System/Library/PrivateFrameworks/IMFoundation.framework/XPCServices/IMRemoteURLConnectionAgent.xpc/Contents/MacOS/IMRemoteURLConnectionAgent\n",
      "mauricio          701   0.0  0.1  2521032   5160   ??  S    10:26AM   0:00.68 /System/Library/PrivateFrameworks/CommerceKit.framework/Resources/LaterAgent.app/Contents/MacOS/LaterAgent\n",
      "mauricio          687   0.0  0.0   475516    640   ??  S    10:26AM   0:04.30 /Library/DropboxHelperTools/Dropbox_u501/dbfseventsd\n",
      "root              684   0.0  0.1   475516   4928   ??  S    10:26AM   0:05.08 /Library/DropboxHelperTools/Dropbox_u501/dbfseventsd\n",
      "root              683   0.0  0.0   466300   1520   ??  S    10:26AM   0:01.38 /Library/DropboxHelperTools/Dropbox_u501/dbfseventsd\n",
      "root              680   0.0  0.0  2469716    228   ??  Ss   10:26AM   0:00.02 /usr/libexec/smd\n",
      "mauricio          679   0.0  0.0  2470256    704   ??  S    10:26AM   0:00.03 /usr/libexec/loginitemregisterd\n",
      "mauricio          665   0.0  0.1  2526832   7848   ??  Ss   10:26AM   0:03.72 /Applications/Dropbox.app/Contents/XPCServices/DropboxActivityProvider.xpc/Contents/MacOS/DropboxActivityProvider\n",
      "root              663   0.0  0.0  2470092   1588   ??  Ss   10:26AM   0:00.11 /System/Library/CoreServices/SubmitDiagInfo server-init\n",
      "root              661   0.0  0.6  2534012  52728   ??  Ss   10:26AM   0:03.12 /usr/sbin/spindump\n",
      "mauricio          654   0.0  0.0  2496176   1304   ??  S    10:26AM   0:00.07 /System/Library/PrivateFrameworks/CommerceKit.framework/Versions/A/Resources/storelegacy\n",
      "mauricio          652   0.0  0.0  2470828   1652   ??  S    10:26AM   0:00.05 /System/Library/CoreServices/Software Update.app/Contents/Resources/softwareupdate_notify_agent\n",
      "mauricio          646   0.0  0.0  2496184   1616   ??  S    10:26AM   0:00.91 /System/Library/PrivateFrameworks/ContactsAgent.framework/Executables/ContactsAgent\n",
      "root              632   0.0  0.0  2470188   1332   ??  Ss   10:26AM   0:00.05 /System/Library/PrivateFrameworks/SoftwareUpdate.framework/Resources/suhelperd\n",
      "_softwareupdate   631   0.0  0.1  4694836   5540   ??  Ss   10:26AM   0:51.32 /System/Library/CoreServices/Software Update.app/Contents/Resources/softwareupdated\n",
      "root              630   0.0  0.1  2498172   6436   ??  Ss   10:26AM   0:02.08 /usr/libexec/wifivelocityd\n",
      "mauricio          629   0.0  0.0  2497524   2472   ??  S    10:26AM   0:00.49 /usr/libexec/WiFiVelocityAgent\n",
      "mauricio          618   0.0  0.1  2471252   7876   ??  S    10:26AM   0:00.30 /System/Library/PrivateFrameworks/PrintingPrivate.framework/Versions/A/PrintUITool\n",
      "mauricio          612   0.0  0.0  2469652    568   ??  Ss   10:26AM   0:00.03 /System/Library/CoreServices/NotificationCenter.app/Contents/XPCServices/com.apple.notificationcenterui.WeatherSummary.xpc/Contents/MacOS/com.apple.notificationcenterui.WeatherSummary\n",
      "mauricio          611   0.0  0.0  2497196   2784   ??  S    10:26AM   0:00.25 /usr/libexec/fmfd\n",
      "mauricio          609   0.0  0.1  2512412   7492   ??  S    10:26AM   0:01.46 /System/Library/PrivateFrameworks/GameCenterFoundation.framework/Versions/A/gamed\n",
      "mauricio          608   0.0  0.0  2499616   3204   ??  S    10:26AM   0:00.11 /System/Library/PrivateFrameworks/CallHistory.framework/Support/CallHistorySyncHelper\n",
      "mauricio          606   0.0  0.1  2501848   7700   ??  S    10:26AM   0:00.42 /usr/libexec/keyboardservicesd\n",
      "mauricio          597   0.0  0.0  2495552   2344   ??  S    10:26AM   0:00.16 /System/Library/CoreServices/mapspushd\n",
      "mauricio          587   0.0  0.0  2454132    180   ??  S    10:26AM   0:00.01 /Applications/Dropbox.app/Contents/MacOS/Dropbox -type:exit-monitor -method:collectupload -session-token:6e5da587-9ba0-4101-a177-8c56782a804a -target-handle:582 -target-shutdown-event:4 -target-command-line:/Applications/Dropbox.app/Contents/MacOS/Dropbox\n",
      "mauricio          586   0.0  0.0  2473404    836   ??  S    10:26AM   0:00.03 /Applications/Dropbox.app/Contents/MacOS/Dropbox -type:crashpad-handler --no-upload-gzip --no-rate-limit --database=/Users/mauricio/.dropbox/Crashpad --metrics-dir=0 --url=https://d.dropbox.com/report_crashpad_minidump --https-pin=0x23,0xf2,0xed,0xff,0x3e,0xde,0x90,0x25,0x9a,0x9e,0x30,0xf4,0xa,0xf8,0xf9,0x12,0xa5,0xe5,0xb3,0x69,0x4e,0x69,0x38,0x44,0x3,0x41,0xf6,0x6,0xe,0x1,0x4f,0xfa --https-pin=0xaf,0xf9,0x88,0x90,0x6d,0xde,0x12,0x95,0x5d,0x9b,0xeb,0xbf,0x92,0x8f,0xdc,0xc3,0x1c,0xce,0x32,0x8d,0x5b,0x93,0x84,0xf2,0x1c,0x89,0x41,0xca,0x26,0xe2,0x3,0x91 --https-pin=0x5a,0x88,0x96,0x47,0x22,0xe,0x54,0xd6,0xbd,0x8a,0x16,0x81,0x72,0x24,0x52,0xb,0xb5,0xc7,0x8e,0x58,0x98,0x4b,0xd5,0x70,0x50,0x63,0x88,0xb9,0xde,0xf,0x7,0x5f --https-pin=0xfe,0xa2,0xb7,0xd6,0x45,0xfb,0xa7,0x3d,0x75,0x3c,0x1e,0xc9,0xa7,0x87,0xc,0x40,0xe1,0xf7,0xb0,0xc5,0x61,0xe9,0x27,0xb9,0x85,0xbf,0x71,0x18,0x66,0xe3,0x6f,0x22 --https-pin=0x76,0xee,0x85,0x90,0x37,0x4c,0x71,0x54,0x37,0xbb,0xca,0x6b,0xba,0x60,0x28,0xea,0xdd,0xe2,0xdc,0x6d,0xbb,0xb8,0xc3,0xf6,0x10,0xe8,0x51,0xf1,0x1d,0x1a,0xb7,0xf5 --https-pin=0x6d,0xbf,0xae,0x0,0xd3,0x7b,0x9c,0xd7,0x3f,0x8f,0xb4,0x7d,0xe6,0x59,0x17,0xaf,0x0,0xe0,0xdd,0xdf,0x42,0xdb,0xce,0xac,0x20,0xc1,0x7c,0x2,0x75,0xee,0x20,0x95 --https-pin=0x1e,0xa3,0xc5,0xe4,0x3e,0xd6,0x6c,0x2d,0xa2,0x98,0x3a,0x42,0xa4,0xa7,0x9b,0x1e,0x90,0x67,0x86,0xce,0x9f,0x1b,0x58,0x62,0x14,0x19,0xa0,0x4,0x63,0xa8,0x7d,0x38 --https-pin=0x87,0xaf,0x34,0xd6,0x6f,0xb3,0xf2,0xfd,0xf3,0x6e,0x9,0x11,0x1e,0x9a,0xba,0x2f,0x6f,0x44,0xb2,0x7,0xf3,0x86,0x3f,0x3d,0xb,0x54,0xb2,0x50,0x23,0x90,0x9a,0xa5 --https-pin=0xbc,0xfb,0x44,0xaa,0xb9,0xad,0x2,0x10,0x15,0x70,0x6b,0x41,0x21,0xea,0x76,0x1c,0x81,0xc9,0xe8,0x89,0x67,0x59,0xf,0x6f,0x94,0xae,0x74,0x4d,0xc8,0x8b,0x78,0xfb --https-pin=0xab,0x98,0x49,0x52,0x76,0xad,0xf1,0xec,0xaf,0xf2,0x8f,0x35,0xc5,0x30,0x48,0x78,0x1e,0x5c,0x17,0x18,0xda,0xb9,0xc8,0xe6,0x7a,0x50,0x4f,0x4f,0x6a,0x51,0x32,0x8f --https-pin=0x49,0x5,0x46,0x66,0x23,0xab,0x41,0x78,0xbe,0x92,0xac,0x5c,0xbd,0x65,0x84,0xf7,0xa1,0xe1,0x7f,0x27,0x65,0x2d,0x5a,0x85,0xaf,0x89,0x50,0x4e,0xa2,0x39,0xaa,0xaa --https-pin=0x56,0x32,0xd9,0x7b,0xfa,0x77,0x5b,0xf3,0xc9,0x9d,0xde,0xa5,0x2f,0xc2,0x55,0x34,0x10,0x86,0x40,0x16,0x72,0x9c,0x52,0xdd,0x65,0x24,0xc8,0xa9,0xc3,0xb4,0x48,0x9f --https-pin=0x2a,0x8f,0x2d,0x8a,0xf0,0xeb,0x12,0x38,0x98,0xf7,0x4c,0x86,0x6a,0xc3,0xfa,0x66,0x90,0x54,0xe2,0x3c,0x17,0xbc,0x7a,0x95,0xbd,0x2,0x34,0x19,0x2d,0xc6,0x35,0xd0 --https-pin=0x32,0xb6,0x4b,0x66,0x72,0x7a,0x20,0x63,0xe4,0x6,0x6f,0x3b,0x95,0x8c,0xb0,0xaa,0xee,0x57,0x6a,0x5e,0xce,0xfd,0x95,0x33,0x99,0xbb,0x88,0x74,0x73,0x1d,0x95,0x87 --https-pin=0xf5,0x3c,0x22,0x5,0x98,0x17,0xdd,0x96,0xf4,0x0,0x65,0x16,0x39,0xd2,0xf8,0x57,0xe2,0x10,0x70,0xa5,0x9a,0xbe,0xd9,0x7,0x94,0x0,0xd9,0xf6,0x95,0x50,0x69,0x0 --https-pin=0x67,0xdc,0x4f,0x32,0xfa,0x10,0xe7,0xd0,0x1a,0x79,0xa0,0x73,0xaa,0xc,0x9e,0x2,0x12,0xec,0x2f,0xfc,0x3d,0x77,0x9e,0xa,0xa7,0xf9,0xc0,0xf0,0xe1,0xc2,0xc8,0x93 --https-pin=0x19,0x6,0xc6,0x12,0x4d,0xbb,0x43,0x85,0x78,0xd0,0xe,0x6,0x6d,0x50,0x54,0xc6,0xc3,0x7f,0xf,0xa6,0x2,0x8c,0x5,0x54,0x5e,0x9,0x94,0xed,0xda,0xec,0x86,0x29 --https-pin=0x1d,0x75,0xd0,0x83,0x1b,0x9e,0x8,0x85,0x39,0x4d,0x32,0xc7,0xa1,0xbf,0xdb,0x3d,0xbc,0x1c,0x28,0xe2,0xb0,0xe8,0x39,0x1f,0xb1,0x35,0x98,0x1d,0xbc,0x5b,0xa9,0x36 --annotation=buildno=Dropbox-mac-37.4.29 --annotation=client_session_id=6e5da587-9ba0-4101-a177-8c56782a804a --annotation=host_int_account1_boot=3026417471 --annotation=machine_id=8d9dc60a-87b0-5039-8276-893766e712a6 --annotation=platform=mac --annotation=platform_version=10.12.6 --handshake-fd=4\n",
      "mauricio          580   0.0  0.0  2494512   1624   ??  S    10:26AM   0:00.42 /Applications/iTunes.app/Contents/MacOS/iTunesHelper.app/Contents/MacOS/iTunesHelper\n",
      "mauricio          572   0.0  0.1  2500976   4416   ??  S    10:26AM   0:00.46 /System/Library/PrivateFrameworks/PassKitCore.framework/passd\n",
      "mauricio          570   0.0  0.1  2495788   5360   ??  S    10:26AM   0:00.42 /System/Library/CoreServices/diagnostics_agent\n",
      "mauricio          569   0.0  0.1  2522684  12324   ??  S    10:26AM   0:02.41 /System/Library/CoreServices/WiFiAgent.app/Contents/MacOS/WiFiAgent\n",
      "mauricio          567   0.0  0.1  2521032   4220   ??  S    10:26AM   0:00.76 /System/Library/PrivateFrameworks/Noticeboard.framework/Versions/A/Resources/nbagent.app/Contents/MacOS/nbagent\n",
      "mauricio          564   0.0  0.1  2496284   4292   ??  S    10:26AM   0:01.94 /System/Library/CoreServices/cloudpaird\n",
      "mauricio          563   0.0  0.1  2520008   4420   ??  S    10:26AM   0:01.15 /System/Library/CoreServices/AirPlayUIAgent.app/Contents/MacOS/AirPlayUIAgent --launchd\n",
      "mauricio          562   0.0  0.0   660220   3052   ??  S    10:26AM   0:01.19 /Users/mauricio/Library/Application Support/Spotify/SpotifyWebHelper\n",
      "mauricio          560   0.0  0.0  2495092   1040   ??  S    10:26AM   0:00.06 /System/Library/PrivateFrameworks/AskPermission.framework/Versions/A/Resources/askpermissiond\n",
      "mauricio          557   0.0  0.1  2499320   9608   ??  S    10:26AM   0:00.36 /System/Library/CoreServices/AppleIDAuthAgent\n",
      "mauricio          556   0.0  0.1  2500348   5648   ??  S    10:26AM   0:00.77 /System/Library/Image Capture/Support/icdd\n",
      "mauricio          554   0.0  0.1  2522424   5504   ??  S    10:26AM   0:02.73 /System/Library/CoreServices/Siri.app/Contents/MacOS/Siri launchd\n",
      "mauricio          553   0.0  0.3  2605160  22872   ??  S    10:26AM   0:03.32 /System/Library/CoreServices/NotificationCenter.app/Contents/MacOS/NotificationCenter\n",
      "mauricio          549   0.0  0.0  2495072   2020   ??  S    10:26AM   0:00.44 /System/Library/CoreServices/SocialPushAgent.app/Contents/MacOS/SocialPushAgent\n",
      "mauricio          547   0.0  0.0  2475828    808   ??  S    10:26AM   0:00.03 /usr/libexec/spindump_agent\n",
      "mauricio          545   0.0  0.0  2517852   3872   ??  S    10:26AM   0:00.74 /System/Library/CoreServices/FolderActionsDispatcher.app/Contents/MacOS/FolderActionsDispatcher\n",
      "mauricio          543   0.0  0.0  2534056   3540   ??  S    10:26AM   0:56.06 /System/Library/PrivateFrameworks/PhotoLibraryPrivate.framework/Versions/A/Support/photolibraryd\n",
      "mauricio          542   0.0  0.0  2495136   2644   ??  S    10:26AM   0:00.10 /System/Library/Frameworks/Security.framework/Versions/A/Resources/KeychainSyncingOverIDSProxy.bundle/Contents/MacOS/KeychainSyncingOverIDSProxy\n",
      "mauricio          541   0.0  0.6  2569200  49884   ??  S    10:26AM   0:02.61 /System/Library/PrivateFrameworks/AssistantServices.framework/assistant_service\n",
      "mauricio          537   0.0  0.0  2473660   1472   ??  Ss   10:26AM   0:00.07 /System/Library/PrivateFrameworks/CommerceKit.framework/Versions/A/XPCServices/com.apple.CommerceKit.TransactionService.xpc/Contents/MacOS/com.apple.CommerceKit.TransactionService\n",
      "mauricio          536   0.0  0.0  2569188   1972   ??  S    10:26AM   0:04.78 /usr/libexec/SafariCloudHistoryPushAgent\n",
      "mauricio          535   0.0  0.0  2495512   3384   ??  S    10:26AM   0:00.23 /usr/libexec/videosubscriptionsd\n",
      "mauricio          534   0.0  0.0  2497004    916   ??  S    10:26AM   0:00.10 /usr/libexec/swcd\n",
      "mauricio          533   0.0  0.1  2501004   8720   ??  Ss   10:26AM   0:00.48 /System/Library/PrivateFrameworks/CommerceKit.framework/Versions/A/XPCServices/com.apple.CommerceKit.TransactionService.xpc/Contents/MacOS/com.apple.CommerceKit.TransactionService\n",
      "mauricio          531   0.0  0.0  2474668   1176   ??  Ss   10:26AM   0:00.12 /Library/Frameworks/iTunesLibrary.framework/Versions/A/XPCServices/com.apple.iTunesLibraryService.xpc/Contents/MacOS/com.apple.iTunesLibraryService\n",
      "mauricio          528   0.0  0.1  2496744   7180   ??  Ss   10:26AM   0:01.89 /System/Library/PrivateFrameworks/CoreWLANKit.framework/Versions/A/XPCServices/WiFiProxy.xpc/Contents/MacOS/WiFiProxy\n",
      "mauricio          527   0.0  0.2  2517548  19556   ??  S    10:26AM   0:20.85 /System/Library/PrivateFrameworks/CloudKitDaemon.framework/Support/cloudd\n",
      "mauricio          526   0.0  0.0  2470152   2212   ??  S    10:26AM   0:00.15 /System/Library/Frameworks/Security.framework/Versions/A/Resources/CloudKeychainProxy.bundle/Contents/MacOS/CloudKeychainProxy\n",
      "mauricio          525   0.0  0.2  2582788  14912   ??  S    10:26AM   0:02.10 /System/Library/PrivateFrameworks/AssistantServices.framework/assistantd\n",
      "mauricio          524   0.0  0.2  2510108  15036   ??  S    10:26AM   0:01.97 /System/Library/PrivateFrameworks/CommerceKit.framework/Versions/A/Resources/storeassetd\n",
      "mauricio          523   0.0  0.0  2500952   3932   ??  S    10:26AM   0:00.12 /System/Library/CoreServices/pbs\n",
      "mauricio          522   0.0  0.0  2500084   1056   ??  S    10:26AM   0:00.11 /System/Library/PrivateFrameworks/CallHistory.framework/Support/CallHistoryPluginHelper\n",
      "mauricio          521   0.0  0.1  2555424  10300   ??  S    10:26AM   0:05.29 /System/Library/Input Methods/DictationIM.app/Contents/MacOS/DictationIM\n",
      "mauricio          520   0.0  0.1  2524572   5884   ??  Ss   10:26AM   0:01.61 /System/Library/Input Methods/PressAndHold.app/Contents/PlugIns/PAH_Extension.appex/Contents/MacOS/PAH_Extension\n",
      "mauricio          519   0.0  0.1  2513764   4704   ??  S    10:26AM   0:00.78 /System/Library/Frameworks/InputMethodKit.framework/Resources/imklaunchagent\n",
      "mauricio          518   0.0  0.1  2523084   5448   ??  Ss   10:26AM   0:01.02 /System/Library/CoreServices/Dock.app/Contents/XPCServices/com.apple.dock.extra.xpc/Contents/MacOS/com.apple.dock.extra\n",
      "mauricio          517   0.0  0.1  2497180   5564   ??  S    10:26AM   0:03.89 /System/Library/PrivateFrameworks/UserActivity.framework/Agents/useractivityd\n",
      "mauricio          516   0.0  0.1  2506492   8920   ??  S    10:26AM   0:00.13 /System/Library/CoreServices/iconservicesagent\n",
      "mauricio          515   0.0  0.0  2497972   3596   ??  S    10:26AM   0:00.15 /System/Library/CoreServices/ScopedBookmarkAgent\n",
      "mauricio          514   0.0  0.0  2471392    588   ??  S    10:26AM   0:00.03 /System/Library/Frameworks/CryptoTokenKit.framework/ctkd -tw\n",
      "mauricio          513   0.0  0.0  2495468    824   ??  S    10:26AM   0:00.04 /System/Library/Frameworks/LocalAuthentication.framework/Support/coreauthd\n",
      "mauricio          512   0.0  0.0  2469724   1064   ??  S    10:26AM   0:00.02 /System/Library/Frameworks/CryptoTokenKit.framework/ctkahp.bundle/Contents/MacOS/ctkahp\n",
      "mauricio          511   0.0  0.1  2562376   4952   ??  Ss   10:26AM   0:01.31 /Applications/Dropbox.app/Contents/PlugIns/garcon.appex/Contents/MacOS/garcon\n",
      "mauricio          510   0.0  0.2  2619920  17880   ??  S    10:26AM   0:06.55 /System/Library/CoreServices/Spotlight.app/Contents/MacOS/Spotlight\n",
      "mauricio          507   0.0  0.0  2587540   2276   ??  S    10:26AM   0:00.17 /usr/libexec/SafariNotificationAgent\n",
      "mauricio          506   0.0  0.1  2588820  11112   ??  S    10:26AM   0:07.19 /System/Library/CoreServices/SafariSupport.bundle/Contents/MacOS/SafariBookmarksSyncAgent\n",
      "root              505   0.0  0.0  2474484   3356   ??  Ss   10:26AM   0:00.18 /usr/sbin/filecoordinationd\n",
      "mauricio          504   0.0  0.1  2503356  11188   ??  S    10:26AM   0:01.05 /System/Library/PrivateFrameworks/CommerceKit.framework/Versions/A/Resources/storeaccountd\n",
      "mauricio          503   0.0  0.1  2501704   7132   ??  S    10:26AM   0:01.57 /System/Library/PrivateFrameworks/GeoServices.framework/Versions/A/XPCServices/com.apple.geod.xpc/Contents/MacOS/com.apple.geod\n",
      "mauricio          502   0.0  0.2  2523620  15840   ??  S    10:26AM   0:02.78 /System/Library/PrivateFrameworks/CoreParsec.framework/parsecd\n",
      "mauricio          501   0.0  0.2  2519096  14596   ??  S    10:26AM   0:03.03 /System/Library/PrivateFrameworks/MessagesKit.framework/Resources/soagent.app/Contents/MacOS/soagent\n",
      "mauricio          500   0.0  0.0  2495700   2444   ??  S    10:26AM   0:00.20 /System/Library/PrivateFrameworks/CloudPhotoServices.framework/Versions/A/Frameworks/CloudPhotosConfigurationXPC.framework/Versions/A/XPCServices/com.apple.CloudPhotosConfiguration.xpc/Contents/MacOS/com.apple.CloudPhotosConfiguration\n",
      "mauricio          499   0.0  0.2  2508676  18028   ??  Ss   10:26AM   0:08.55 /System/Library/PrivateFrameworks/CalendarNotification.framework/Versions/A/XPCServices/CalNCService.xpc/Contents/MacOS/CalNCService\n",
      "mauricio          494   0.0  0.3  2594252  21720   ??  S    10:26AM   0:05.98 /System/Library/StagedFrameworks/Safari/SafariShared.framework/Versions/A/XPCServices/com.apple.Safari.History.xpc/Contents/MacOS/com.apple.Safari.History\n",
      "mauricio          491   0.0  0.1  2530584   7452   ??  S    10:26AM   0:09.34 /System/Library/Frameworks/ApplicationServices.framework/Frameworks/ATS.framework/Support/fontd\n",
      "mauricio          489   0.0  0.2  2579776  16228   ??  S    10:26AM   1:31.87 /System/Library/PrivateFrameworks/PhotoAnalysis.framework/Versions/A/Support/photoanalysisd\n",
      "mauricio          487   0.0  0.0  2469836    428   ??  S    10:26AM   0:00.03 /System/Library/PrivateFrameworks/CoreFollowUp.framework/Versions/A/Support/followupd\n",
      "mauricio          486   0.0  0.3  2526304  28124   ??  S    10:26AM   0:21.53 /System/Library/PrivateFrameworks/CalendarAgent.framework/Executables/CalendarAgent\n",
      "mauricio          484   0.0  0.1  2498820   5272   ??  S    10:26AM   0:00.37 /usr/libexec/networkserviceproxy\n",
      "mauricio          483   0.0  0.2  2505256  13344   ??  S    10:26AM   0:09.29 /usr/libexec/nsurlsessiond\n",
      "mauricio          480   0.0  0.1  2497504   8392   ??  S    10:26AM   0:03.18 /usr/sbin/usernoted\n",
      "mauricio          478   0.0  0.0  2469556    888   ??  S    10:26AM   0:00.04 /System/Library/PrivateFrameworks/CommunicationsFilter.framework/CMFSyncAgent.app/Contents/MacOS/CMFSyncAgent\n",
      "root              473   0.0  0.0  2469728   1800   ??  Ss   10:26AM   0:00.05 /System/Library/PrivateFrameworks/PackageKit.framework/Resources/system_installd\n",
      "_assetcache       472   0.0  0.0  2500220   1768   ??  Ss   10:26AM   0:00.08 /usr/libexec/AssetCache/AssetCache\n",
      "mauricio          471   0.0  0.0  2494904   2408   ??  S    10:26AM   0:00.08 /System/Library/PrivateFrameworks/GeoServices.framework/geodMachServiceBridge\n",
      "mauricio          470   0.0  0.0  2498408   2512   ??  S    10:26AM   0:00.10 /System/Library/PrivateFrameworks/CommerceKit.framework/Versions/A/Resources/storedownloadd\n",
      "mauricio          469   0.0  0.1  2528088   6716   ??  S    10:26AM   0:01.43 /System/Library/CoreServices/cloudphotosd.app/Contents/MacOS/cloudphotosd\n",
      "root              468   0.0  0.0  2500648   3428   ??  Ss   10:26AM   0:00.10 /System/Library/PrivateFrameworks/PackageKit.framework/Resources/installd\n",
      "root              467   0.0  0.0  2470444   1864   ??  Ss   10:26AM   0:00.05 /System/Library/CoreServices/backupd.bundle/Contents/Resources/TMCacheDelete\n",
      "mauricio          466   0.0  0.0  2495560   2136   ??  S    10:26AM   0:00.09 /System/Library/PrivateFrameworks/QuickLookThumbnailing.framework/Support/com.apple.quicklook.ThumbnailsAgent\n",
      "mauricio          465   0.0  0.1  2500700   6380   ??  S    10:26AM   0:04.67 /usr/libexec/pkd\n",
      "mauricio          464   0.0  0.2  2504144  13708   ??  S    10:26AM   0:01.77 /System/Library/PrivateFrameworks/CloudDocsDaemon.framework/Versions/A/Support/bird\n",
      "mauricio          463   0.0  0.0  2497076   2724   ??  S    10:26AM   0:00.24 /System/Library/PrivateFrameworks/CacheDelete.framework/deleted\n",
      "mauricio          462   0.0  0.3  2514908  21628   ??  S    10:26AM   0:07.85 /usr/libexec/sharingd\n",
      "mauricio          461   0.0  0.1  2500128  10448   ??  S    10:26AM   0:13.37 /usr/libexec/nsurlstoraged\n",
      "mauricio          460   0.0  0.1  2502520  10060   ??  S    10:26AM   0:01.98 /System/Library/PrivateFrameworks/AuthKit.framework/Versions/A/Support/akd\n",
      "mauricio          459   0.0  0.0  2486972   3596   ??  S    10:26AM   0:00.23 /usr/libexec/pboard\n",
      "mauricio          456   0.0  1.8  2954804 153924   ??  S    10:26AM   0:13.46 /System/Library/CoreServices/Finder.app/Contents/MacOS/Finder\n",
      "mauricio          455   0.0  0.6  2642432  46460   ??  S    10:26AM   0:40.66 /System/Library/CoreServices/SystemUIServer.app/Contents/MacOS/SystemUIServer\n",
      "mauricio          453   0.0  0.7  2695204  56008   ??  S    10:26AM   0:12.78 /System/Library/CoreServices/Dock.app/Contents/MacOS/Dock\n",
      "mauricio          451   0.0  7.2  5382124 603772   ??  S    10:26AM  11:37.02 /Applications/Thunderbird.app/Contents/MacOS/thunderbird -psn_0_61455\n",
      "mauricio          449   0.0  0.1  2498452   5596   ??  S    10:26AM   0:00.49 /usr/libexec/secinitd\n",
      "mauricio          448   0.0  0.0  2469676   3688   ??  S    10:26AM   0:00.93 /System/Library/Frameworks/AddressBook.framework/Executables/ContactsAccountsService\n",
      "mauricio          447   0.0  0.3  2528336  22396   ??  S    10:26AM   0:08.94 /System/Library/Frameworks/Accounts.framework/Versions/A/Support/accountsd\n",
      "mauricio          445   0.0  0.0  2470400   1740   ??  S    10:26AM   0:00.16 /System/Library/PrivateFrameworks/IMDPersistence.framework/XPCServices/IMDPersistenceAgent.xpc/Contents/MacOS/IMDPersistenceAgent\n",
      "root              444   0.0  0.1  2497248   5064   ??  Ss   10:26AM   0:00.19 /usr/libexec/taskgated -s\n",
      "mauricio          443   0.0  0.1  2503448   6620   ??  S    10:26AM   0:00.73 /System/Library/PrivateFrameworks/TCC.framework/Resources/tccd\n",
      "mauricio          442   0.0  0.0  2498336   4068   ??  S    10:26AM   0:00.57 /System/Library/PrivateFrameworks/IMCore.framework/imagent.app/Contents/MacOS/imagent\n",
      "mauricio          441   0.0  1.4  3015316 120468   ??  S    10:26AM   0:21.10 /Applications/Telegram.app/Contents/MacOS/Telegram -psn_0_57358\n",
      "mauricio          440   0.0  0.1  2509424  11508   ??  S    10:26AM   0:01.97 /System/Library/PrivateFrameworks/IDS.framework/identityservicesd.app/Contents/MacOS/identityservicesd\n",
      "root              439   0.0  0.0  2496424   2592   ??  Ss   10:26AM   0:00.32 /usr/sbin/WirelessRadioManagerd\n",
      "mauricio          438   0.0  0.0  2423368     16   ??  T    10:26AM   0:00.00 /Applications/Adobe Acrobat Reader DC.app/Contents/MacOS/AdobeReader -psn_0_53261\n",
      "mauricio          437   0.0  0.4  3712884  33776   ??  S    10:26AM   0:04.90 /Applications/Messages.app/Contents/MacOS/Messages -psn_0_49164\n",
      "mauricio          436   0.0  0.2  2511704  16520   ??  S    10:26AM   0:03.45 /System/Library/PrivateFrameworks/TelephonyUtilities.framework/callservicesd\n",
      "mauricio          434   0.0  0.1  2499044  10508   ??  S    10:26AM   0:03.48 /usr/libexec/secd\n",
      "mauricio          433   0.0  0.1  2497816   6092   ??  S    10:26AM   0:00.42 /System/Library/CoreServices/sharedfilelistd\n",
      "mauricio          432   0.0  0.7  2671884  58424   ??  S    10:26AM   0:18.42 /Applications/Utilities/Terminal.app/Contents/MacOS/Terminal -psn_0_40970\n",
      "mauricio          430   0.0  0.1  2501996   7536   ??  S    10:26AM   0:07.37 /usr/libexec/trustd --agent\n",
      "mauricio          429   0.0  0.1  2519216  11624   ??  S    10:26AM   0:01.87 /System/Library/Frameworks/CoreTelephony.framework/Support/CommCenter -L\n",
      "mauricio          428   0.0  0.0  2501112   2992   ??  S    10:26AM   0:00.84 /usr/libexec/lsd\n",
      "mauricio          426   0.0  0.0  2469460   4060   ??  S    10:26AM   0:13.02 /usr/sbin/distnoted agent\n",
      "mauricio          424   0.0  0.1  2502612   9344   ??  S    10:26AM   0:04.84 /usr/libexec/UserEventAgent (Aqua)\n",
      "mauricio          421   0.0  0.1  2478380   5696   ??  S    10:26AM   0:03.37 /usr/sbin/cfprefsd agent\n",
      "root              420   0.0  0.0  2471172    540   ??  Ss   10:26AM   0:00.08 /usr/libexec/securityd_service\n",
      "root              417   0.0  0.0  2470248    592   ??  Ss   10:26AM   0:00.01 /System/Library/Frameworks/GSS.framework/Helpers/com.apple.GSSCred\n",
      "root              414   0.0  0.0  2471984   1108   ??  Ss   10:26AM   0:00.88 /usr/sbin/racoon -D\n",
      "root              411   0.0  0.0  2497148    768   ??  Ss   10:25AM   0:00.09 /System/Library/PrivateFrameworks/CommerceKit.framework/Versions/A/Resources/storeaccountd daemon\n",
      "root              410   0.0  0.0  2496072   3284   ??  Ss   10:25AM   1:16.81 /System/Library/PrivateFrameworks/AmbientDisplay.framework/Versions/A/XPCServices/com.apple.AmbientDisplayAgent.xpc/Contents/MacOS/com.apple.AmbientDisplayAgent\n",
      "_captiveagent     407   0.0  0.0  2471728   2940   ??  Ss   10:25AM   0:00.24 /usr/libexec/captiveagent\n",
      "_nsurlstoraged    402   0.0  0.0  2470012   2564   ??  Ss   10:25AM   0:00.22 /usr/libexec/nsurlstoraged\n",
      "root              401   0.0  0.0  2453828    472   ??  Ss   10:25AM   0:00.18 /usr/libexec/watchdogd\n",
      "root              400   0.0  0.0  2469724   1192   ??  Ss   10:25AM   0:00.93 sysmond\n",
      "root              399   0.0  0.0  2495188   3256   ??  Ss   10:25AM   0:00.15 /System/Library/CoreServices/sharedfilelistd --enable-legacy-services\n",
      "root              398   0.0  0.0  2495576   2352   ??  Ss   10:25AM   0:00.08 /System/Library/Frameworks/LocalAuthentication.framework/Support/coreauthd\n",
      "root              396   0.0  0.0  2500032   3156   ??  Ss   10:25AM   0:00.23 /System/Library/PrivateFrameworks/AuthKit.framework/Versions/A/Support/akd\n",
      "root              395   0.0  0.0  2469984   1120   ??  Ss   10:25AM   0:00.03 /System/Library/PrivateFrameworks/AccountPolicy.framework/XPCServices/com.apple.AccountPolicyHelper.xpc/Contents/MacOS/com.apple.AccountPolicyHelper\n",
      "root              394   0.0  0.0  2497864   4000   ??  Ss   10:25AM   0:00.13 /System/Library/PrivateFrameworks/TCC.framework/Resources/tccd system\n",
      "root              390   0.0  0.1  2499372   4244   ??  Ss   10:25AM   0:00.18 /usr/sbin/systemsoundserverd\n",
      "root              383   0.0  0.0  2497820   4172   ??  Ss   10:25AM   0:04.64 /System/Library/PrivateFrameworks/PerformanceAnalysis.framework/Versions/A/XPCServices/com.apple.PerformanceAnalysis.animationperfd.xpc/Contents/MacOS/com.apple.PerformanceAnalysis.animationperfd\n",
      "_networkd         378   0.0  0.1  2504952   7432   ??  Ss   10:25AM   0:04.06 /usr/libexec/symptomsd\n",
      "root              370   0.0  0.0  2496892   1548   ??  Ss   10:25AM   0:00.14 /usr/libexec/secinitd\n",
      "root              369   0.0  0.0  2469724    972   ??  Ss   10:25AM   0:00.03 /System/Library/Frameworks/CryptoTokenKit.framework/ctkahp.bundle/Contents/MacOS/ctkahp -d\n",
      "root              354   0.0  0.0  2472752   2792   ??  Ss   10:25AM   0:00.29 /System/Library/Frameworks/Security.framework/Versions/A/XPCServices/com.apple.CodeSigningHelper.xpc/Contents/MacOS/com.apple.CodeSigningHelper\n",
      "root              350   0.0  0.0  2503412   2364   ??  Ss   10:25AM   0:00.16 /System/Library/Frameworks/CoreMediaIO.framework/Resources/VDC.plugin/Contents/Resources/VDCAssistant\n",
      "root              349   0.0  0.0  2469660    616   ??  Ss   10:25AM   0:00.03 /System/Library/CryptoTokenKit/com.apple.ifdreader.slotd/Contents/MacOS/com.apple.ifdreader\n",
      "root              348   0.0  0.0  2496288   1416   ??  Ss   10:25AM   0:02.25 /usr/libexec/usbd\n",
      "root              347   0.0  0.0  2469476    676   ??  Ss   10:25AM   0:00.03 /usr/libexec/corestoraged\n",
      "root              346   0.0  0.0  2460724    564   ??  Ss   10:25AM   0:00.13 /usr/sbin/cron\n",
      "root              345   0.0  0.0  2500664   2512   ??  Ss   10:25AM   0:00.22 /usr/libexec/nehelper\n",
      "root              344   0.0  0.0  2473040   1124   ??  Ss   10:25AM   0:00.62 /usr/sbin/ntpd -c /private/etc/ntp-restrict.conf -n -g -p /var/run/ntpd.pid -f /var/db/ntp.drift\n",
      "_nsurlsessiond    343   0.0  0.1  2501124   6164   ??  Ss   10:25AM   0:00.66 /usr/libexec/nsurlsessiond --privileged\n",
      "root              340   0.0  0.0  2512824    632   ??  Ss   10:25AM   0:00.09 /System/Library/Frameworks/OpenGL.framework/Versions/A/Libraries/CVMServer\n",
      "root              339   0.0  0.0  2472200    896   ??  Ss   10:25AM   0:00.14 /System/Library/PrivateFrameworks/CoreSymbolication.framework/coresymbolicationd\n",
      "root              338   0.0  0.0  2470840    328   ??  Ss   10:25AM   0:00.02 /usr/sbin/systemstats --xpc\n",
      "_coreaudiod       273   0.0  0.0  2495316   1140   ??  Ss   10:25AM   0:00.21 /System/Library/Frameworks/CoreAudio.framework/Versions/A/XPCServices/com.apple.audio.DriverHelper.xpc/Contents/MacOS/com.apple.audio.DriverHelper\n",
      "_coreaudiod       260   0.0  0.1  2473780   4580   ??  Ss   10:25AM   0:01.56 /usr/sbin/coreaudiod\n",
      "root              256   0.0  0.0  2499292   4160   ??  Ss   10:25AM   0:00.74 /usr/libexec/lsd runAsRoot\n",
      "root              232   0.0  0.0  2469440   2124   ??  Ss   10:25AM   0:00.06 /System/Library/CoreServices/CrashReporterSupportHelper server-init\n",
      "root              231   0.0  0.0  2501948   2576   ??  Ss   10:25AM   0:00.40 /usr/libexec/findmydeviced\n",
      "root              230   0.0  0.0  2498300   4100   ??  Ss   10:25AM   0:00.38 /usr/libexec/awacsd\n",
      "root              229   0.0  0.0  2495992   2040   ??  Ss   10:25AM   0:00.22 /System/Library/PrivateFrameworks/WirelessDiagnostics.framework/Support/awdd\n",
      "root              228   0.0  0.0  2496004    848   ??  Ss   10:25AM   0:00.79 /usr/sbin/mDNSResponderHelper\n",
      "_mdnsresponder    227   0.0  0.1  2498692   6136   ??  Ss   10:25AM   0:15.76 /usr/sbin/mDNSResponder\n",
      "root              208   0.0  0.1  2496156   5204   ??  Ss   10:25AM   0:01.61 /usr/libexec/sandboxd\n",
      "_ctkd             192   0.0  0.0  2471376    260   ??  Ss   10:25AM   0:00.03 /System/Library/Frameworks/CryptoTokenKit.framework/ctkd -s\n",
      "root              191   0.0  0.1  2499548   4636   ??  Ss   10:25AM   0:03.25 /usr/libexec/trustd\n",
      "root              188   0.0  0.0  2470180    268   ??  Ss   10:25AM   0:00.03 /System/Library/Frameworks/PCSC.framework/Versions/A/XPCServices/com.apple.ctkpcscd.xpc/Contents/MacOS/com.apple.ctkpcscd\n",
      "root              182   0.0  0.0  2498104   2704   ??  Ss   10:25AM   0:00.35 /System/Library/Frameworks/Security.framework/Versions/A/XPCServices/authd.xpc/Contents/MacOS/authd\n",
      "root              181   0.0  0.0  2469980   1208   ??  Ss   10:25AM   0:00.04 aslmanager\n",
      "root              180   0.0  0.1  2502680   5308   ??  Ss   10:25AM   0:00.74 /System/Library/CoreServices/coreservicesd\n",
      "root              145   0.0  0.0  2470080   3364   ??  Ss   10:25AM   0:03.66 /usr/sbin/cfprefsd daemon\n",
      "_distnote         142   0.0  0.0  2469460   1504   ??  Ss   10:25AM   0:05.21 /usr/sbin/distnoted daemon\n",
      "root              139   0.0  0.1  2498868   5764   ??  Ss   10:25AM   0:01.38 /usr/libexec/amfid\n",
      "root              138   0.0  0.0  2470276   1796   ??  Ss   10:25AM   0:04.09 /usr/sbin/notifyd\n",
      "root              137   0.0  0.0  2496768   3940   ??  Ss   10:25AM   0:01.18 /usr/libexec/AirPlayXPCHelper\n",
      "root              136   0.0  0.0  2498372   2752   ??  Ss   10:25AM   0:00.20 /usr/libexec/corebrightnessd --launchd\n",
      "_hidd             135   0.0  0.1  2472676   5236   ??  Ss   10:25AM   5:31.19 /usr/libexec/hidd\n",
      "root              133   0.0  0.0  2461516    172   ??  Ss   10:25AM   0:00.01 /usr/sbin/KernelEventAgent\n",
      "root              132   0.0  0.0  2469488    944   ??  Ss   10:25AM   0:00.05 /System/Library/CoreServices/logind\n",
      "mauricio          131   0.0  0.4  2605256  37580   ??  Ss   10:25AM   0:11.51 /System/Library/CoreServices/loginwindow.app/Contents/MacOS/loginwindow console\n",
      "root              130   0.0  0.4  2531444  30432   ??  Ss   10:25AM   0:00.92 /System/Library/PrivateFrameworks/GenerationalStorage.framework/Versions/A/Support/revisiond\n",
      "root              128   0.0  0.0  2496976   1120   ??  Ss   10:25AM   0:00.18 /System/Library/PrivateFrameworks/Heimdal.framework/Helpers/kdc\n",
      "root              125   0.0  0.1  2496884   5568   ??  Ss   10:25AM   0:12.92 /usr/sbin/blued\n",
      "root              124   0.0  0.0  2469936    476   ??  Ss   10:25AM   0:00.02 autofsd\n",
      "root              123   0.0  0.1  2499628   4952   ??  Ss   10:25AM   0:01.57 /usr/libexec/DuetHeuristic-BM\n",
      "_locationd        119   0.0  0.1  2508444  10932   ??  Ss   10:25AM   0:07.02 /usr/libexec/locationd\n",
      "root              117   0.0  0.1  2497760   5620   ??  Ss   10:25AM   0:02.27 /usr/sbin/securityd -i\n",
      "_usbmuxd          116   0.0  0.0  2495412   1328   ??  Ss   10:25AM   0:00.16 /System/Library/PrivateFrameworks/MobileDevice.framework/Versions/A/Resources/usbmuxd -launchd\n",
      "root              115   0.0  0.1  2498340   6908   ??  Ss   10:25AM   0:04.86 /System/Library/CoreServices/launchservicesd\n",
      "root              114   0.0  0.0  2496152   1272   ??  Ss   10:25AM   0:00.12 /System/Library/PrivateFrameworks/Noticeboard.framework/Versions/A/Resources/nbstated\n",
      "root              113   0.0  0.0  2460800    176   ??  Ss   10:25AM   0:00.02 /Library/PrivilegedHelperTools/com.docker.vmnetd\n",
      "root              112   0.0  0.1  2500524   8480   ??  Ss   10:25AM   0:03.67 /System/Library/PrivateFrameworks/ApplePushService.framework/apsd\n",
      "root              110   0.0  0.0  2496236   2508   ??  Ss   10:25AM   0:02.27 /usr/sbin/wirelessproxd\n",
      "root              102   0.0  0.0  2471244    152   ??  Ss   10:25AM   0:00.04 /usr/libexec/wdhelper\n",
      "root              101   0.0  0.1  2517460   9404   ??  Ss   10:25AM   0:04.44 /usr/libexec/coreduetd\n",
      "root               99   0.0  0.0  2494868   1752   ??  Ss   10:25AM   0:00.27 /usr/libexec/diskarbitrationd\n",
      "root               97   0.0  0.0  2471116    232   ??  Ss   10:25AM   0:00.02 /System/Library/CoreServices/iconservicesagent\n",
      "_iconservices      96   0.0  0.0  2471116   1536   ??  Ss   10:25AM   0:00.04 /System/Library/CoreServices/iconservicesd\n",
      "root               90   0.0  0.0  2500120   2400   ??  SNs  10:25AM   0:00.57 /usr/libexec/warmd\n",
      "root               88   0.0  0.5  2530432  41168   ??  Ss   10:25AM   0:42.50 /usr/libexec/airportd\n",
      "root               84   0.0  0.2  2541324  15876   ??  Ss   10:25AM   0:07.71 /usr/libexec/logd\n",
      "root               79   0.0  0.1  2501228   6296   ??  Ss   10:25AM   0:00.80 /usr/libexec/mobileassetd\n",
      "root               78   0.0  0.0  2495072   2808   ??  Ss   10:25AM   0:01.81 /System/Library/CoreServices/powerd.bundle/powerd\n",
      "root               77   0.0  0.1  2501772   9068   ??  Ss   10:25AM   0:05.79 /usr/libexec/configd\n",
      "_appleevents       76   0.0  0.1  2498492   4640   ??  Ss   10:25AM   0:00.33 /System/Library/CoreServices/appleeventsd --server\n",
      "root               72   0.0  0.0  2496504   3880   ??  Ss   10:25AM   0:00.38 /System/Library/PrivateFrameworks/MediaRemote.framework/Support/mediaremoted\n",
      "root               70   0.0  0.1  2476836   4304   ??  Ss   10:25AM   0:08.69 /System/Library/Frameworks/CoreServices.framework/Versions/A/Frameworks/FSEvents.framework/Versions/A/Support/fseventsd\n",
      "root               69   0.0  0.1  2503996   9780   ??  Ss   10:25AM   0:02.68 /usr/libexec/kextd\n",
      "root               68   0.0  0.0  2469392    552   ??  Ss   10:25AM   0:00.94 /System/Library/PrivateFrameworks/Uninstall.framework/Resources/uninstalld\n",
      "root               66   0.0  0.1  2503136   9356   ??  Ss   10:25AM   0:05.12 /usr/libexec/UserEventAgent (System)\n",
      "root               65   0.0  0.0  2470328    868   ??  Ss   10:25AM   0:01.09 /usr/sbin/syslogd\n",
      "root             1852   0.0  0.0  2433160    984   ??  R     4:37PM   0:00.00 ps aux\n",
      "root                1   0.0  0.1  2491524  11492   ??  Ss   10:25AM   0:21.29 /sbin/launchd\n",
      "mauricio         1850   0.0  0.0  2435440   1092   ??  S     4:37PM   0:00.01 bash\n",
      "mauricio         1848   0.0  2.5  4050108 208296   ??  Rs    4:36PM   0:09.91 /System/Library/StagedFrameworks/Safari/WebKit.framework/Versions/A/XPCServices/com.apple.WebKit.WebContent.xpc/Contents/MacOS/com.apple.WebKit.WebContent\n",
      "mauricio         1846   0.0  1.3  3910684 105348   ??  Ss    4:36PM   0:01.26 /System/Library/StagedFrameworks/Safari/WebKit.framework/Versions/A/XPCServices/com.apple.WebKit.WebContent.xpc/Contents/MacOS/com.apple.WebKit.WebContent\n",
      "mauricio         1830   0.0  0.1  2476096   8676   ??  S     4:35PM   0:00.06 /System/Library/Frameworks/CoreServices.framework/Frameworks/Metadata.framework/Versions/A/Support/mdworker -s mdworker -c MDSImporterWorker -m com.apple.mdworker.single\n",
      "mauricio         1804   0.0  0.1  3015672   9760   ??  S     4:34PM   0:00.11 /System/Library/Frameworks/QuickLook.framework/Resources/quicklookd.app/Contents/MacOS/quicklookd\n",
      "mauricio         1802   0.0  0.1  2476080   6240   ??  S     4:33PM   0:00.06 /System/Library/Frameworks/CoreServices.framework/Frameworks/Metadata.framework/Versions/A/Support/mdworker -s mdworker-lsb -c MDSImporterWorker -m com.apple.mdworker.lsb\n",
      "mauricio         1801   0.0  0.1  2476080   6264   ??  S     4:33PM   0:00.06 /System/Library/Frameworks/CoreServices.framework/Frameworks/Metadata.framework/Versions/A/Support/mdworker -s mdworker-lsb -c MDSImporterWorker -m com.apple.mdworker.lsb\n",
      "mauricio         1798   0.0  0.1  2496576   7608   ??  S     4:33PM   0:00.12 /System/Library/PrivateFrameworks/AOSKit.framework/Versions/A/XPCServices/com.apple.iCloudHelper.xpc/Contents/MacOS/com.apple.iCloudHelper\n"
     ]
    }
   ],
   "source": [
    "%%bash\n",
    "ls \n",
    "ps aux"
   ]
  },
  {
   "cell_type": "markdown",
   "metadata": {},
   "source": [
    "# 6) NumPy\n",
    "<!--\n",
    "import numpy as np\n",
    "np.array([1.2, 1.3, 1.6])\n",
    "\n",
    "#Python Lists implementation\n",
    "def norm_square_list(vector):\n",
    "    norm = 0\n",
    "    for v in vector:\n",
    "        norm += v*v\n",
    "    return norm\n",
    "\n",
    "#Vectorized NumPy implementation\n",
    "def norm_square_numpy(vector):\n",
    "    return np.sum(vector * vector)\n",
    "\n",
    "#Vector to use - dimension 10^6\n",
    "vector = list(range(1000000))\n",
    "npvector = np.array(vector)\n",
    "\n",
    "# Arrays of zeros: np.zeros(shape)\n",
    "print(\"Zeros:\")\n",
    "print( np.zeros((3,3)) )\n",
    "\n",
    "# Arrays of ones: np.ones(shape)\n",
    "print(\"\\nOnes:\")\n",
    "print( np.ones((3,3)) )\n",
    "\n",
    "# Empty array: np.empty(shape)\n",
    "print(\"\\nEmpty:\")\n",
    "print( np.empty((3,3)) )\n",
    "\n",
    "# Range of values: np.range(start, stop, step)\n",
    "print(\"\\nRange:\")\n",
    "print( np.arange(0., 10., 1.) )\n",
    "\n",
    "# Regular grid: np.linspace(start, end, n_values)\n",
    "print(\"\\nRegular grid:\")\n",
    "print( np.linspace(0., 1., 9) )\n",
    "\n",
    "# Array constructor: np.array( python_iterable )\n",
    "print(\"\\nArray constructor\")\n",
    "print( np.array([2, 3, 5, 10, -1]) )\n",
    "\n",
    "\n",
    "-->"
   ]
  },
  {
   "cell_type": "code",
   "execution_count": 9,
   "metadata": {},
   "outputs": [
    {
     "name": "stdout",
     "output_type": "stream",
     "text": [
      "Zeros:\n",
      "[[ 0.  0.  0.]\n",
      " [ 0.  0.  0.]\n",
      " [ 0.  0.  0.]]\n",
      "\n",
      "Ones:\n",
      "[[ 1.  1.  1.]\n",
      " [ 1.  1.  1.]\n",
      " [ 1.  1.  1.]]\n",
      "\n",
      "Empty:\n",
      "[[ 1.  1.  1.]\n",
      " [ 1.  1.  1.]\n",
      " [ 1.  1.  1.]]\n",
      "\n",
      "Range:\n",
      "[ 0.  1.  2.  3.  4.  5.  6.  7.  8.  9.]\n",
      "\n",
      "Regular grid:\n",
      "[ 0.     0.125  0.25   0.375  0.5    0.625  0.75   0.875  1.   ]\n",
      "\n",
      "Array constructor\n",
      "[ 2  3  5 10 -1]\n"
     ]
    }
   ],
   "source": [
    "import numpy as np\n",
    "np.array([1.2, 1.3, 1.6])\n",
    "\n",
    "#Python Lists implementation\n",
    "def norm_square_list(vector):\n",
    "    norm = 0\n",
    "    for v in vector:\n",
    "        norm += v*v\n",
    "    return norm\n",
    "\n",
    "#Vectorized NumPy implementation\n",
    "def norm_square_numpy(vector):\n",
    "    return np.sum(vector * vector)\n",
    "\n",
    "#Vector to use - dimension 10^6\n",
    "vector = list(range(1000000))\n",
    "npvector = np.array(vector)\n",
    "\n",
    "# Arrays of zeros: np.zeros(shape)\n",
    "print(\"Zeros:\")\n",
    "print( np.zeros((3,3)) )\n",
    "\n",
    "# Arrays of ones: np.ones(shape)\n",
    "print(\"\\nOnes:\")\n",
    "print( np.ones((3,3)) )\n",
    "\n",
    "# Empty array: np.empty(shape)\n",
    "print(\"\\nEmpty:\")\n",
    "print( np.empty((3,3)) )\n",
    "\n",
    "# Range of values: np.range(start, stop, step)\n",
    "print(\"\\nRange:\")\n",
    "print( np.arange(0., 10., 1.) )\n",
    "\n",
    "# Regular grid: np.linspace(start, end, n_values)\n",
    "print(\"\\nRegular grid:\")\n",
    "print( np.linspace(0., 1., 9) )\n",
    "\n",
    "# Array constructor: np.array( python_iterable )\n",
    "print(\"\\nArray constructor\")\n",
    "print( np.array([2, 3, 5, 10, -1]) )"
   ]
  },
  {
   "cell_type": "code",
   "execution_count": 10,
   "metadata": {
    "collapsed": true
   },
   "outputs": [],
   "source": [
    "def norm_square_list(vector):\n",
    "    norm = 0\n",
    "    for v in vector:\n",
    "        norm += v*v\n",
    "    return norm\n",
    "\n",
    "#Vectorized NumPy implementation\n",
    "def norm_square_numpy(vector):\n",
    "    return np.sum(vector * vector)\n",
    "\n",
    "#Vector to use - dimension 10^6\n",
    "vector = list(range(1000000))\n",
    "npvector = np.array(vector)"
   ]
  },
  {
   "cell_type": "code",
   "execution_count": 11,
   "metadata": {},
   "outputs": [
    {
     "name": "stdout",
     "output_type": "stream",
     "text": [
      "97.7 ms ± 3.09 ms per loop (mean ± std. dev. of 7 runs, 10 loops each)\n"
     ]
    }
   ],
   "source": [
    "%timeit norm_square_list(vector)"
   ]
  },
  {
   "cell_type": "code",
   "execution_count": 12,
   "metadata": {},
   "outputs": [
    {
     "name": "stdout",
     "output_type": "stream",
     "text": [
      "5.73 ms ± 2.71 ms per loop (mean ± std. dev. of 7 runs, 100 loops each)\n"
     ]
    }
   ],
   "source": [
    "%timeit norm_square_numpy(npvector)"
   ]
  },
  {
   "cell_type": "markdown",
   "metadata": {},
   "source": [
    "# 7) SciPy\n",
    "<!--\n",
    "import scipy as sp\n",
    "import scipy.integrate as integrate\n",
    "\n",
    "def f(x):\n",
    "    return x**3\n",
    "\n",
    "ans, err = integrate.quad(f,0,np.pi)\n",
    "print(ans,' +-',err)\n",
    "\n",
    "def f(y, t):\n",
    "    return y**2 * np.sin(y)\n",
    "\n",
    "ic = 1.\n",
    "times = np.linspace(0., 10., 100)\n",
    "sol = integrate.odeint(f, ic, time)\n",
    "\n",
    "-->"
   ]
  },
  {
   "cell_type": "code",
   "execution_count": 13,
   "metadata": {},
   "outputs": [
    {
     "name": "stdout",
     "output_type": "stream",
     "text": [
      "24.35227275850061  +- 2.7036453918439354e-13\n"
     ]
    }
   ],
   "source": [
    "import scipy as sp\n",
    "import scipy.integrate as integrate\n",
    "\n",
    "def f(x):\n",
    "    return x**3\n",
    "\n",
    "ans, err = integrate.quad(f,0,np.pi)\n",
    "print(ans,' +-',err)\n",
    "\n",
    "def f(y, t):\n",
    "    return y**2 * np.sin(y)\n",
    "\n",
    "ic = 1.\n",
    "times = np.linspace(0., 10., 100)\n",
    "sol = integrate.odeint(f, ic, times)"
   ]
  },
  {
   "cell_type": "markdown",
   "metadata": {},
   "source": [
    "# 8) MatplotLib\n",
    "<!--\n",
    "import matplotlib.pyplot as plt\n",
    "%matplotlib inline\n",
    "%matplotlib --list\n",
    "\n",
    "plt.figure(figsize=(10,4))\n",
    "plt.plot(times, sol, 'ro-')\n",
    "plt.title('ODE evolution')\n",
    "plt.show()\n",
    "\n",
    "x = np.arange(0, 2*np.pi, 0.1)\n",
    "y = np.sin(x)\n",
    "z = np.cos(x)\n",
    "plt.plot(x,y)\n",
    "plt.plot(x,z)\n",
    "plt.show()\n",
    "\n",
    "plt.figure(figsize=(15,5))\n",
    "plt.plot(x, y, 'o--', lw=4, color='green', mfc='red', ms=7)\n",
    "plt.title(\"Example plot\")\n",
    "plt.xlabel(\"x\")\n",
    "plt.ylabel(\"y(x)\")\n",
    "plt.grid()\n",
    "plt.show()\n",
    "\n",
    "x = np.random.randn(100)\n",
    "y = np.random.randn(100)\n",
    "\n",
    "plt.scatter(x, y, marker='o', s=25)\n",
    "plt.grid()\n",
    "plt.xlabel('x coordinate')\n",
    "plt.ylabel('y coordinate')\n",
    "plt.title('Scatter plot')\n",
    "plt.xlim(-3,3)\n",
    "plt.ylim(-3,3)\n",
    "plt.show()\n",
    "\n",
    "n_samples = 25000\n",
    "#x = np.random.rand(n_samples)\n",
    "x = np.random.randn(n_samples)\n",
    "\n",
    "plt.figure(figsize=(6,6))\n",
    "plt.hist(x, bins=50, facecolor='seagreen', edgecolor='black', lw=2)\n",
    "plt.title(\"Empirical Standard Distribution\")\n",
    "plt.xlabel(\"x random variable\")\n",
    "plt.ylabel(\"frequency\")\n",
    "plt.show()\n",
    "\n",
    "#imshow()\n",
    "\n",
    "-->"
   ]
  },
  {
   "cell_type": "code",
   "execution_count": 14,
   "metadata": {},
   "outputs": [
    {
     "name": "stdout",
     "output_type": "stream",
     "text": [
      "Available matplotlib backends: ['tk', 'gtk', 'gtk3', 'wx', 'qt', 'qt4', 'qt5', 'osx', 'nbagg', 'notebook', 'agg', 'inline', 'ipympl']\n"
     ]
    },
    {
     "data": {
      "image/png": "[encoded data removed]",
      "text/plain": [
       "<matplotlib.figure.Figure at 0x112cbc208>"
      ]
     },
     "metadata": {},
     "output_type": "display_data"
    },
    {
     "data": {
      "image/png": "[encoded data removed]",
      "text/plain": [
       "<matplotlib.figure.Figure at 0x151f053b38>"
      ]
     },
     "metadata": {},
     "output_type": "display_data"
    },
    {
     "data": {
      "image/png": "[encoded data removed]",
      "text/plain": [
       "<matplotlib.figure.Figure at 0x151f1a9828>"
      ]
     },
     "metadata": {},
     "output_type": "display_data"
    },
    {
     "data": {
      "image/png": "[encoded data removed]",
      "text/plain": [
       "<matplotlib.figure.Figure at 0x151f15f588>"
      ]
     },
     "metadata": {},
     "output_type": "display_data"
    },
    {
     "data": {
      "image/png": "[encoded data removed]",
      "text/plain": [
       "<matplotlib.figure.Figure at 0x151f0108d0>"
      ]
     },
     "metadata": {},
     "output_type": "display_data"
    }
   ],
   "source": [
    "import matplotlib.pyplot as plt\n",
    "%matplotlib inline\n",
    "%matplotlib --list\n",
    "\n",
    "plt.figure(figsize=(10,4))\n",
    "plt.plot(times, sol, 'ro-')\n",
    "plt.title('ODE evolution')\n",
    "plt.show()\n",
    "\n",
    "x = np.arange(0, 2*np.pi, 0.1)\n",
    "y = np.sin(x)\n",
    "z = np.cos(x)\n",
    "plt.plot(x,y)\n",
    "plt.plot(x,z)\n",
    "plt.show()\n",
    "\n",
    "plt.figure(figsize=(15,5))\n",
    "plt.plot(x, y, 'o--', lw=4, color='green', mfc='red', ms=7)\n",
    "plt.title(\"Example plot\")\n",
    "plt.xlabel(\"x\")\n",
    "plt.ylabel(\"y(x)\")\n",
    "plt.grid()\n",
    "plt.show()\n",
    "\n",
    "x = np.random.randn(100)\n",
    "y = np.random.randn(100)\n",
    "\n",
    "plt.scatter(x, y, marker='o', s=25)\n",
    "plt.grid()\n",
    "plt.xlabel('x coordinate')\n",
    "plt.ylabel('y coordinate')\n",
    "plt.title('Scatter plot')\n",
    "plt.xlim(-3,3)\n",
    "plt.ylim(-3,3)\n",
    "plt.show()\n",
    "\n",
    "n_samples = 25000\n",
    "#x = np.random.rand(n_samples)\n",
    "x = np.random.randn(n_samples)\n",
    "\n",
    "plt.figure(figsize=(6,6))\n",
    "plt.hist(x, bins=50, facecolor='seagreen', edgecolor='black', lw=2)\n",
    "plt.title(\"Empirical Standard Distribution\")\n",
    "plt.xlabel(\"x random variable\")\n",
    "plt.ylabel(\"frequency\")\n",
    "plt.show()"
   ]
  },
  {
   "cell_type": "markdown",
   "metadata": {},
   "source": [
    "# 9) Interact\n",
    "<!--\n",
    "from ipywidgets import interact\n",
    "def f(x):\n",
    "    return x\n",
    "interact(f, x=True);\n",
    "interact(f, x='hi there!');\n",
    "interact(f, x=10);\n",
    "interact(f, x=(-50,50,2));\n",
    "interact(f, x=['orange', 'apple']);\n",
    "\n",
    "\n",
    "wget http://alumnos.inf.utfsm.cl/~mavillan/press/orion.npy\n",
    "\n",
    "-->"
   ]
  },
  {
   "cell_type": "code",
   "execution_count": 15,
   "metadata": {},
   "outputs": [
    {
     "data": {
      "application/vnd.jupyter.widget-view+json": {
       "model_id": "fe6c4c3eb1504064af871a6b7615e0bf",
       "version_major": 2,
       "version_minor": 0
      },
      "text/plain": [
       "A Jupyter Widget"
      ]
     },
     "metadata": {},
     "output_type": "display_data"
    },
    {
     "data": {
      "application/vnd.jupyter.widget-view+json": {
       "model_id": "75d044a4351c49d1b00561cbdf950ad4",
       "version_major": 2,
       "version_minor": 0
      },
      "text/plain": [
       "A Jupyter Widget"
      ]
     },
     "metadata": {},
     "output_type": "display_data"
    },
    {
     "data": {
      "application/vnd.jupyter.widget-view+json": {
       "model_id": "f885c00f34f64c69a2d4351a8cf12fb1",
       "version_major": 2,
       "version_minor": 0
      },
      "text/plain": [
       "A Jupyter Widget"
      ]
     },
     "metadata": {},
     "output_type": "display_data"
    },
    {
     "data": {
      "application/vnd.jupyter.widget-view+json": {
       "model_id": "3a3d7aa6b81d4373a05f19979e1ddffa",
       "version_major": 2,
       "version_minor": 0
      },
      "text/plain": [
       "A Jupyter Widget"
      ]
     },
     "metadata": {},
     "output_type": "display_data"
    },
    {
     "data": {
      "application/vnd.jupyter.widget-view+json": {
       "model_id": "ccf11a44d7ea4b0fb8d3c8b3cf46d1a1",
       "version_major": 2,
       "version_minor": 0
      },
      "text/plain": [
       "A Jupyter Widget"
      ]
     },
     "metadata": {},
     "output_type": "display_data"
    }
   ],
   "source": [
    "from ipywidgets import interact\n",
    "def f(x):\n",
    "    return x\n",
    "interact(f, x=True);\n",
    "interact(f, x='hi there!');\n",
    "interact(f, x=10);\n",
    "interact(f, x=(-50,50,2));\n",
    "interact(f, x=['orange', 'apple']);"
   ]
  },
  {
   "cell_type": "markdown",
   "metadata": {},
   "source": [
    "# 10) Others\n",
    "## Scikit-learn\n",
    "## Scikit-image\n",
    "## Cython\n",
    "## Numba\n",
    "## Pandas\n"
   ]
  },
  {
   "cell_type": "code",
   "execution_count": null,
   "metadata": {
    "collapsed": true
   },
   "outputs": [],
   "source": []
  }
 ],
 "metadata": {
  "kernelspec": {
   "display_name": "Python 3",
   "language": "python",
   "name": "python3"
  },
  "language_info": {
   "codemirror_mode": {
    "name": "ipython",
    "version": 3
   },
   "file_extension": ".py",
   "mimetype": "text/x-python",
   "name": "python",
   "nbconvert_exporter": "python",
   "pygments_lexer": "ipython3",
   "version": "3.6.2"
  }
 },
 "nbformat": 4,
 "nbformat_minor": 2
}
