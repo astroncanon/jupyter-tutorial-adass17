{
 "cells": [
  {
   "cell_type": "markdown",
   "metadata": {},
   "source": [
    "# 4) iPyAladin\n",
    "``pip``\n",
    "``jupyter nbextension enable --py --sys-prefix ipyaladin``\n"
   ]
  },
  {
   "cell_type": "code",
   "execution_count": 8,
   "metadata": {
    "collapsed": true
   },
   "outputs": [],
   "source": [
    "import ipyaladin as ipyal"
   ]
  },
  {
   "cell_type": "code",
   "execution_count": 9,
   "metadata": {},
   "outputs": [
    {
     "data": {
      "application/vnd.jupyter.widget-view+json": {
       "model_id": "76f317fab58c4fcf8f9a4f33f425cc9f",
       "version_major": 2,
       "version_minor": 0
      },
      "text/plain": [
       "A Jupyter Widget"
      ]
     },
     "metadata": {},
     "output_type": "display_data"
    }
   ],
   "source": [
    "aladin = ipyal.Aladin()\n",
    "aladin"
   ]
  },
  {
   "cell_type": "code",
   "execution_count": 10,
   "metadata": {
    "collapsed": true
   },
   "outputs": [],
   "source": [
    "aladin.target= 'M100'"
   ]
  },
  {
   "cell_type": "code",
   "execution_count": 11,
   "metadata": {
    "collapsed": true
   },
   "outputs": [],
   "source": [
    "aladin.survey= 'P/allWISE/color'"
   ]
  },
  {
   "cell_type": "code",
   "execution_count": 12,
   "metadata": {
    "collapsed": true
   },
   "outputs": [],
   "source": [
    "aladin.set_color_map('rainbow')"
   ]
  },
  {
   "cell_type": "code",
   "execution_count": 13,
   "metadata": {
    "collapsed": true
   },
   "outputs": [],
   "source": [
    "url= 'http://vizier.u-strasbg.fr/viz-bin/votable?-source=HIP2&-c=LMC&-out.add=_RAJ,_DEJ&-oc.form=dm&-out.meta=DhuL&-out.max=9999&-c.rm=180'\n",
    "options= {'sourceSize':12, 'color': '#f08080'}\n",
    "aladin.add_catalog_from_URL(url, options)"
   ]
  },
  {
   "cell_type": "code",
   "execution_count": 14,
   "metadata": {
    "collapsed": true
   },
   "outputs": [],
   "source": [
    "aladin.add_moc_from_URL('http://alasky.u-strasbg.fr/footprints/tables/vizier/II_337_vvv1/MOC?nside=256', {'color': 'violet', 'opacity': 0.3})\n"
   ]
  },
  {
   "cell_type": "code",
   "execution_count": 15,
   "metadata": {},
   "outputs": [
    {
     "data": {
      "text/plain": [
       "59.91528"
      ]
     },
     "execution_count": 15,
     "metadata": {},
     "output_type": "execute_result"
    }
   ],
   "source": [
    "aladin.fov"
   ]
  },
  {
   "cell_type": "code",
   "execution_count": 16,
   "metadata": {},
   "outputs": [
    {
     "data": {
      "application/vnd.jupyter.widget-view+json": {
       "model_id": "dcfeec90534d4950afd95eb24aae89eb",
       "version_major": 2,
       "version_minor": 0
      },
      "text/plain": [
       "A Jupyter Widget"
      ]
     },
     "metadata": {},
     "output_type": "display_data"
    }
   ],
   "source": [
    "from ipyaladin import Aladin\n",
    "\n",
    "from ipywidgets import Layout, Box, widgets\n",
    "\n",
    "a = Aladin(layout=Layout(width='33.33%'), target='M 81', fov=0.3)\n",
    "b = Aladin(layout=Layout(width='33.33%'), survey='P/DSS2/red')\n",
    "c = Aladin(layout=Layout(width='33.33%'), survey='P/2MASS/color')\n",
    "\n",
    "# synchronize target between 3 widgets\n",
    "widgets.jslink((a, 'target'), (b, 'target'))\n",
    "widgets.jslink((b, 'target'), (c, 'target'))\n",
    "\n",
    "# synchronize FoV (zoom level) between 3 widgets\n",
    "widgets.jslink((a, 'fov'), (b, 'fov'))\n",
    "widgets.jslink((b, 'fov'), (c, 'fov'))\n",
    "\n",
    "items = [a, b, c]\n",
    "\n",
    "box_layout = Layout(display='flex',\n",
    "                    flex_flow='row',\n",
    "                    align_items='stretch',\n",
    "                    border='solid',\n",
    "                    width='100%')\n",
    "box = Box(children=items, layout=box_layout)\n",
    "box"
   ]
  },
  {
   "cell_type": "code",
   "execution_count": 17,
   "metadata": {},
   "outputs": [
    {
     "data": {
      "application/vnd.jupyter.widget-view+json": {
       "model_id": "ccf450b61e8649c9ab7a8997a44e0688",
       "version_major": 2,
       "version_minor": 0
      },
      "text/plain": [
       "A Jupyter Widget"
      ]
     },
     "metadata": {},
     "output_type": "display_data"
    },
    {
     "name": "stdout",
     "output_type": "stream",
     "text": [
      "None\r"
     ]
    }
   ],
   "source": [
    "from ipyaladin import Aladin\n",
    "\n",
    "from ipywidgets import Layout, Box, widgets\n",
    "\n",
    "aladin = Aladin(layout=Layout(width='70%'), target='M 36', fov=0.3)\n",
    "info = widgets.HTML()\n",
    "\n",
    "\n",
    "box_layout = Layout(display='flex',\n",
    "                    flex_flow='row',\n",
    "                    align_items='stretch',\n",
    "                    width='100%')\n",
    "box = Box(children=[aladin, info], layout=box_layout)\n",
    "box"
   ]
  },
  {
   "cell_type": "code",
   "execution_count": 18,
   "metadata": {
    "collapsed": true
   },
   "outputs": [],
   "source": [
    "import requests\n",
    "def process_result(data):\n",
    "    info.value = ''\n",
    "    ra = data['ra']\n",
    "    dec = data['dec']\n",
    "    radius = min(aladin.fov / 10, 5)\n",
    "    query = \"\"\"SELECT TOP 1 main_id, ra, dec, DISTANCE(POINT('ICRS', %f, %f), POINT('ICRS', ra, dec)) as d FROM basic\n",
    "               WHERE CONTAINS(POINT('ICRS', ra, dec), CIRCLE('ICRS', %f, %f, %f))=1\n",
    "               ORDER BY d ASC\"\"\" % (ra, dec, ra, dec, aladin.fov / 10)\n",
    "    \n",
    "    r = requests.get('http://simbad.u-strasbg.fr/simbad/sim-tap/sync', params={'query': query, 'request': 'doQuery', 'lang': 'adql', 'format': 'json', 'phase': 'run'})\n",
    "    obj_name = ''\n",
    "    obj_coo = None\n",
    "    obj_data = r.json()['data']\n",
    "    if len(obj_data)==0:\n",
    "        return\n",
    "    \n",
    "    obj_name = obj_data[0][0]\n",
    "    obj_coo = [obj_data[0][1], obj_data[0][2]]\n",
    "        \n",
    "    sed_img = '<img src=\"http://cdsportal.u-strasbg.fr/cgi-bin/PhotVizPreview/plot?ra=%f&dec=%f&radius_arcsec=5&w=200&h=150&point_size=4\">' % (obj_coo[0], obj_coo[1])\n",
    "    info.value =  '<h2>%s</h2><br><br>%s' % (obj_name, sed_img)\n",
    "    \n",
    "aladin.add_listener('click', process_result)\n"
   ]
  },
  {
   "cell_type": "code",
   "execution_count": null,
   "metadata": {
    "collapsed": true
   },
   "outputs": [],
   "source": []
  }
 ],
 "metadata": {
  "kernelspec": {
   "display_name": "Python 3",
   "language": "python",
   "name": "python3"
  },
  "language_info": {
   "codemirror_mode": {
    "name": "ipython",
    "version": 3
   },
   "file_extension": ".py",
   "mimetype": "text/x-python",
   "name": "python",
   "nbconvert_exporter": "python",
   "pygments_lexer": "ipython3",
   "version": "3.6.2"
  }
 },
 "nbformat": 4,
 "nbformat_minor": 2
}
